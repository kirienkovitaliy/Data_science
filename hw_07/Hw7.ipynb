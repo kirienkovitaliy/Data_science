{
  "nbformat": 4,
  "nbformat_minor": 0,
  "metadata": {
    "colab": {
      "provenance": []
    },
    "kernelspec": {
      "name": "python3",
      "display_name": "Python 3"
    },
    "language_info": {
      "name": "python"
    }
  },
  "cells": [
    {
      "cell_type": "markdown",
      "source": [
        "### Візьміть датасет movielens і побудуйте модель матричної факторизації. У даній бібліотеці він має назву SVD. Підберіть найкращі параметри за допомогою крос-валідації, також поекспериментуйте з іншими алгоритмами розрахунків (SVD++, NMF) і оберіть той, який буде оптимальним."
      ],
      "metadata": {
        "id": "YbBCSi4H4iEk"
      }
    },
    {
      "cell_type": "code",
      "source": [
        "pip install surprise"
      ],
      "metadata": {
        "colab": {
          "base_uri": "https://localhost:8080/"
        },
        "id": "eTuSUONT44Pn",
        "outputId": "60f1c5cf-450c-4e31-cd64-09aad3498284"
      },
      "execution_count": 2,
      "outputs": [
        {
          "output_type": "stream",
          "name": "stdout",
          "text": [
            "Collecting surprise\n",
            "  Downloading surprise-0.1-py2.py3-none-any.whl (1.8 kB)\n",
            "Collecting scikit-surprise (from surprise)\n",
            "  Downloading scikit-surprise-1.1.3.tar.gz (771 kB)\n",
            "\u001b[2K     \u001b[90m━━━━━━━━━━━━━━━━━━━━━━━━━━━━━━━━━━━━━━\u001b[0m \u001b[32m772.0/772.0 kB\u001b[0m \u001b[31m10.9 MB/s\u001b[0m eta \u001b[36m0:00:00\u001b[0m\n",
            "\u001b[?25h  Preparing metadata (setup.py) ... \u001b[?25l\u001b[?25hdone\n",
            "Requirement already satisfied: joblib>=1.0.0 in /usr/local/lib/python3.10/dist-packages (from scikit-surprise->surprise) (1.3.2)\n",
            "Requirement already satisfied: numpy>=1.17.3 in /usr/local/lib/python3.10/dist-packages (from scikit-surprise->surprise) (1.23.5)\n",
            "Requirement already satisfied: scipy>=1.3.2 in /usr/local/lib/python3.10/dist-packages (from scikit-surprise->surprise) (1.11.2)\n",
            "Building wheels for collected packages: scikit-surprise\n",
            "  Building wheel for scikit-surprise (setup.py) ... \u001b[?25l\u001b[?25hdone\n",
            "  Created wheel for scikit-surprise: filename=scikit_surprise-1.1.3-cp310-cp310-linux_x86_64.whl size=3156236 sha256=d6fcca61d70e92fe2eb90b8b251072e681f3b12d025f8b50e7388ffa43ef7501\n",
            "  Stored in directory: /root/.cache/pip/wheels/a5/ca/a8/4e28def53797fdc4363ca4af740db15a9c2f1595ebc51fb445\n",
            "Successfully built scikit-surprise\n",
            "Installing collected packages: scikit-surprise, surprise\n",
            "Successfully installed scikit-surprise-1.1.3 surprise-0.1\n"
          ]
        }
      ]
    },
    {
      "cell_type": "code",
      "execution_count": 3,
      "metadata": {
        "id": "hEQwmnhr4Xs1"
      },
      "outputs": [],
      "source": [
        "from surprise import Dataset, Reader\n",
        "from surprise.model_selection import cross_validate, GridSearchCV\n",
        "from surprise.prediction_algorithms import SVD, SVDpp, NMF"
      ]
    },
    {
      "cell_type": "code",
      "source": [
        "# Завантаження данних з датасету movielens\n",
        "data = Dataset.load_builtin('ml-100k')\n",
        "\n",
        "# Створення об'єкту Reader для зчитування даних\n",
        "reader = Reader(line_format='user item rating timestamp', sep='\\t')\n",
        "\n",
        "# Перетворення данних до формату, зрозумілого бібліотеці Surprise\n",
        "data = Dataset.load_from_file('/content/drive/MyDrive/Data_science/hw_07/ml-100k/u.data', reader=reader)"
      ],
      "metadata": {
        "id": "UB9fAH_Z5YuU"
      },
      "execution_count": 8,
      "outputs": []
    },
    {
      "cell_type": "code",
      "source": [
        "# Створення списку алгоритмів\n",
        "algorithms = [SVD(), SVDpp(), NMF()]"
      ],
      "metadata": {
        "id": "gKJgXlQX6kXP"
      },
      "execution_count": 9,
      "outputs": []
    },
    {
      "cell_type": "code",
      "source": [
        "for algo in algorithms:\n",
        "    # Використання крос-валідації для оцінки алгоритму\n",
        "    results = cross_validate(algo, data, measures=['RMSE'], cv=3, verbose=True)\n",
        "\n",
        "    # Виведення середнього значення RMSE на крос-валідації\n",
        "    print(f'RMSE for {algo}: {results[\"test_rmse\"].mean()}')"
      ],
      "metadata": {
        "colab": {
          "base_uri": "https://localhost:8080/"
        },
        "id": "I_C1J6-e6pqd",
        "outputId": "9ee219de-337c-49f9-f6ae-43d583fc5007"
      },
      "execution_count": 15,
      "outputs": [
        {
          "output_type": "stream",
          "name": "stdout",
          "text": [
            "Evaluating RMSE of algorithm SVD on 3 split(s).\n",
            "\n",
            "                  Fold 1  Fold 2  Fold 3  Mean    Std     \n",
            "RMSE (testset)    0.9483  0.9491  0.9385  0.9453  0.0048  \n",
            "Fit time          1.13    1.09    1.08    1.10    0.02    \n",
            "Test time         0.38    0.36    0.30    0.35    0.04    \n",
            "RMSE for <surprise.prediction_algorithms.matrix_factorization.SVD object at 0x7ab61476beb0>: 0.9452928743040397\n",
            "Evaluating RMSE of algorithm SVDpp on 3 split(s).\n",
            "\n",
            "                  Fold 1  Fold 2  Fold 3  Mean    Std     \n",
            "RMSE (testset)    0.9326  0.9259  0.9240  0.9275  0.0037  \n",
            "Fit time          18.68   18.49   18.48   18.55   0.09    \n",
            "Test time         7.55    7.98    7.70    7.74    0.18    \n",
            "RMSE for <surprise.prediction_algorithms.matrix_factorization.SVDpp object at 0x7ab6147698a0>: 0.9275058036805541\n",
            "Evaluating RMSE of algorithm NMF on 3 split(s).\n",
            "\n",
            "                  Fold 1  Fold 2  Fold 3  Mean    Std     \n",
            "RMSE (testset)    0.9680  0.9724  0.9799  0.9734  0.0049  \n",
            "Fit time          1.96    1.70    1.72    1.79    0.12    \n",
            "Test time         0.19    0.17    0.19    0.18    0.01    \n",
            "RMSE for <surprise.prediction_algorithms.matrix_factorization.NMF object at 0x7ab6147695a0>: 0.9734370228371533\n"
          ]
        }
      ]
    },
    {
      "cell_type": "markdown",
      "source": [
        "### За результатами оцінки RMSE, алгоритм SVDpp має найменше середнє значення RMSE (0.9275), що свідчить про його кращу точність у порівнянні з SVD (0.9452) і NMF (0.9734). Таким чином, алгоритм SVDpp є найкращим вибором серед цих трьох для побудови моделі матричної факторизації для рекомендаційної системи на даних з movielens."
      ],
      "metadata": {
        "id": "uG2TaNSv_dcQ"
      }
    }
  ]
}