{
  "nbformat": 4,
  "nbformat_minor": 0,
  "metadata": {
    "colab": {
      "provenance": []
    },
    "kernelspec": {
      "name": "python3",
      "display_name": "Python 3"
    },
    "language_info": {
      "name": "python"
    }
  },
  "cells": [
    {
      "cell_type": "markdown",
      "source": [
        "## Завдання\n",
        "В домашньому завданні до даного модулю ви потренуєтесь робити тестове завдання для влаштування на роботу. За даними акселерометра з мобільного телефону потрібно класифікувати, якою діяльністю займається людина: йде, стоїть, біжить чи йде по сходах. Знайти датасет ви можете за посиланням.\n",
        "\n",
        "Використайте алгоритми SVM та випадковий ліс з бібліотеки scikit-learn. Як характеристики можете брати показники з акселерометра, проте щоб покращити результати роботи алгоритмів, спочатку можна підготувати наш датасет і розрахувати часові ознаки (time domain features). Більше ці характеристики описані в даній статті.\n",
        "\n",
        "Порівняйте результати роботи обох алгоритмів на різних фічах та різні моделі між собою."
      ],
      "metadata": {
        "id": "CoqHGnuu1Eqy"
      }
    },
    {
      "cell_type": "code",
      "source": [
        "import os\n",
        "import time\n",
        "import pandas as pd\n",
        "from os import listdir\n",
        "from os.path import join\n",
        "from sklearn.model_selection import train_test_split\n",
        "from sklearn.svm import SVC\n",
        "from sklearn.ensemble import RandomForestClassifier\n",
        "from sklearn.metrics import accuracy_score, classification_report, confusion_matrix"
      ],
      "metadata": {
        "id": "d_p0KJTo5Ibk"
      },
      "execution_count": 52,
      "outputs": []
    },
    {
      "cell_type": "code",
      "source": [
        "# Шлях до датасету та вихідного файлу\n",
        "data_folder = '/content/gdrive/MyDrive/Data_science/hw_05/data'\n",
        "output_file = '/content/gdrive/MyDrive/Data_science/hw_05/combined_data.csv'"
      ],
      "metadata": {
        "id": "eh0lRyhs5Lfh"
      },
      "execution_count": 53,
      "outputs": []
    },
    {
      "cell_type": "code",
      "source": [
        "# Створюємо порожній DataFrame для зберігання даних\n",
        "combined_data = pd.DataFrame()"
      ],
      "metadata": {
        "id": "NR1IAPJx5NT9"
      },
      "execution_count": 54,
      "outputs": []
    },
    {
      "cell_type": "code",
      "source": [
        "# Список активностей\n",
        "activities = ['walking', 'running', 'idle', 'stairs']"
      ],
      "metadata": {
        "id": "9wrM1oaP5O0e"
      },
      "execution_count": 55,
      "outputs": []
    },
    {
      "cell_type": "code",
      "source": [
        "# Проходимося по кожній папці з даними (walking, running, idle, stairs)\n",
        "for activity in activities:\n",
        "    activity_folder = os.path.join(data_folder, activity)\n",
        "\n",
        "    # Створюємо порожній DataFrame для обраного класу\n",
        "    activity_data = pd.DataFrame()\n",
        "\n",
        "    # Проходимося по кожному файлу CSV в папці\n",
        "    for file_name in os.listdir(activity_folder):\n",
        "        if file_name.endswith('.csv'):\n",
        "            file_path = os.path.join(activity_folder, file_name)\n",
        "\n",
        "            # Читаємо дані з файлу\n",
        "            df = pd.read_csv(file_path)\n",
        "\n",
        "            # Перевіряємо наявність NaN значень у даному файлі\n",
        "            nan_count = df.isna().sum().sum()\n",
        "            if nan_count > 0:\n",
        "                print(f\"У файлі {file_path} є {nan_count} NaN значень.\")\n",
        "\n",
        "            # Додаємо дані з файлу до DataFrame класу\n",
        "            activity_data = pd.concat([activity_data, df], ignore_index=True)\n",
        "\n",
        "    # Додаємо колонку 'activity' з інформацією про активність\n",
        "    activity_data['activity'] = activity\n",
        "\n",
        "    # Додаємо дані класу до загального DataFrame\n",
        "    combined_data = pd.concat([combined_data, activity_data], ignore_index=True)\n",
        "\n",
        "# Зберігаємо об'єднані дані в один CSV-файл\n",
        "combined_data.to_csv(output_file, index=False)"
      ],
      "metadata": {
        "id": "kB_U5CYL5QYi"
      },
      "execution_count": 56,
      "outputs": []
    },
    {
      "cell_type": "code",
      "source": [
        "# Перевіряємо кількість NaN значень\n",
        "nan_count_total = combined_data.isna().sum().sum()\n",
        "print(f\"Кількість значень NaN в об'єднаних даних: {nan_count_total}\")"
      ],
      "metadata": {
        "colab": {
          "base_uri": "https://localhost:8080/"
        },
        "id": "mlbJXcwT5Ybw",
        "outputId": "b1a27376-2cad-475a-c26b-c5b231ac75ac"
      },
      "execution_count": 57,
      "outputs": [
        {
          "output_type": "stream",
          "name": "stdout",
          "text": [
            "Кількість значень NaN в об'єднаних даних: 0\n"
          ]
        }
      ]
    },
    {
      "cell_type": "code",
      "source": [
        "# Завантаження об'єднаного датасету\n",
        "combined_data = pd.read_csv('/content/gdrive/MyDrive/Data_science/hw_05/combined_data.csv')"
      ],
      "metadata": {
        "id": "GFothaKE5aFp"
      },
      "execution_count": 58,
      "outputs": []
    },
    {
      "cell_type": "code",
      "source": [
        "# Розділення на ознаки (X) та цільову змінну (y)\n",
        "X = combined_data[['accelerometer_X', 'accelerometer_Y', 'accelerometer_Z']]\n",
        "y = combined_data['activity']"
      ],
      "metadata": {
        "id": "6ulnfk585b8V"
      },
      "execution_count": 59,
      "outputs": []
    },
    {
      "cell_type": "code",
      "source": [
        "# Розділення на навчальний і тестовий набори\n",
        "X_train, X_test, y_train, y_test = train_test_split(X, y, test_size=0.2, random_state=42)"
      ],
      "metadata": {
        "id": "nCJgkYVW5de7"
      },
      "execution_count": 60,
      "outputs": []
    },
    {
      "cell_type": "code",
      "source": [
        "# Модель SVM\n",
        "start_time = time.time()\n",
        "svm_model = SVC()\n",
        "svm_model.fit(X_train, y_train)\n",
        "svm_predictions = svm_model.predict(X_test)\n",
        "svm_elapsed_time = time.time() - start_time"
      ],
      "metadata": {
        "id": "S6wE1NUF5fDS"
      },
      "execution_count": 61,
      "outputs": []
    },
    {
      "cell_type": "code",
      "source": [
        "# Модель випадкового лісу\n",
        "start_time = time.time()\n",
        "rf_model = RandomForestClassifier()\n",
        "rf_model.fit(X_train, y_train)\n",
        "rf_predictions = rf_model.predict(X_test)\n",
        "rf_elapsed_time = time.time() - start_time"
      ],
      "metadata": {
        "id": "fizVQFNI5gwB"
      },
      "execution_count": 62,
      "outputs": []
    },
    {
      "cell_type": "code",
      "source": [
        "# Оцінка результатів для моделі SVM\n",
        "svm_accuracy = accuracy_score(y_test, svm_predictions)\n",
        "svm_report = classification_report(y_test, svm_predictions)\n",
        "svm_confusion = confusion_matrix(y_test, svm_predictions)\n",
        "\n",
        "# Оцінка результатів для моделі випадкового лісу\n",
        "rf_accuracy = accuracy_score(y_test, rf_predictions)\n",
        "rf_report = classification_report(y_test, rf_predictions)\n",
        "rf_confusion = confusion_matrix(y_test, rf_predictions)"
      ],
      "metadata": {
        "id": "HcZoZ8tQ5jDi"
      },
      "execution_count": 63,
      "outputs": []
    },
    {
      "cell_type": "code",
      "source": [
        "# Вивід результатів\n",
        "print(\"Результати для SVM:\")\n",
        "print(f\"Точність: {svm_accuracy}\")\n",
        "print(f\"Звіт про класифікацію:\\n{svm_report}\")\n",
        "print(f\"Матриця плутанини:\\n{svm_confusion}\")\n",
        "print(f\"Час виконання SVM: {svm_elapsed_time} сек.\")\n",
        "\n",
        "print(\"\\nРезультати для випадкового лісу:\")\n",
        "print(f\"Точність: {rf_accuracy}\")\n",
        "print(f\"Звіт про класифікацію:\\n{rf_report}\")\n",
        "print(f\"Матриця плутанини:\\n{rf_confusion}\")\n",
        "print(f\"Час виконання випадкового лісу: {rf_elapsed_time} сек.\")\n"
      ],
      "metadata": {
        "colab": {
          "base_uri": "https://localhost:8080/"
        },
        "id": "wBhSFJPZqQ-3",
        "outputId": "5fffe28b-099b-4aa1-b766-473ad4e658bf"
      },
      "execution_count": 64,
      "outputs": [
        {
          "output_type": "stream",
          "name": "stdout",
          "text": [
            "Результати для SVM:\n",
            "Точність: 0.8966522232538946\n",
            "Звіт про класифікацію:\n",
            "              precision    recall  f1-score   support\n",
            "\n",
            "        idle       0.96      0.99      0.97      6221\n",
            "     running       0.93      0.91      0.92     20533\n",
            "      stairs       1.00      0.01      0.01       915\n",
            "     walking       0.81      0.90      0.85     11103\n",
            "\n",
            "    accuracy                           0.90     38772\n",
            "   macro avg       0.92      0.70      0.69     38772\n",
            "weighted avg       0.90      0.90      0.89     38772\n",
            "\n",
            "Матриця плутанини:\n",
            "[[ 6138    61     0    22]\n",
            " [  212 18600     0  1721]\n",
            " [    9   223     5   678]\n",
            " [   32  1049     0 10022]]\n",
            "Час виконання SVM: 484.9281554222107 сек.\n",
            "\n",
            "Результати для випадкового лісу:\n",
            "Точність: 0.9997936655318271\n",
            "Звіт про класифікацію:\n",
            "              precision    recall  f1-score   support\n",
            "\n",
            "        idle       1.00      1.00      1.00      6221\n",
            "     running       1.00      1.00      1.00     20533\n",
            "      stairs       1.00      0.99      1.00       915\n",
            "     walking       1.00      1.00      1.00     11103\n",
            "\n",
            "    accuracy                           1.00     38772\n",
            "   macro avg       1.00      1.00      1.00     38772\n",
            "weighted avg       1.00      1.00      1.00     38772\n",
            "\n",
            "Матриця плутанини:\n",
            "[[ 6220     1     0     0]\n",
            " [    0 20533     0     0]\n",
            " [    1     4   908     2]\n",
            " [    0     0     0 11103]]\n",
            "Час виконання випадкового лісу: 17.441888093948364 сек.\n"
          ]
        }
      ]
    },
    {
      "cell_type": "markdown",
      "source": [
        "## Аналіз результатів:\n",
        "Звіт про класифікацію надає інформацію про precision, recall та F1-score для кожного класу окремо. Ось значення цих метрик для кожного класу:\n",
        "\n",
        "### Для SVM:\n",
        "\n",
        "Для класу \"idle\":\n",
        "precision: 0.96\n",
        "recall: 0.99\n",
        "F1-score: 0.97\n",
        "\n",
        "Для класу \"running\":\n",
        "precision: 0.93\n",
        "recall: 0.91\n",
        "F1-score: 0.92\n",
        "\n",
        "Для класу \"stairs\":\n",
        "precision: 1.00\n",
        "recall: 0.01\n",
        "F1-score: 0.01\n",
        "\n",
        "Для класу \"walking\":\n",
        "precision: 0.81\n",
        "recall: 0.90\n",
        "F1-score: 0.85\n",
        "\n",
        "### Для випадкового лісу:\n",
        "\n",
        "Для класу \"idle\":\n",
        "precision: 1.00\n",
        "recall: 1.00\n",
        "F1-score: 1.00\n",
        "\n",
        "Для класу \"running\":\n",
        "precision: 1.00\n",
        "recall: 1.00\n",
        "F1-score: 1.00\n",
        "\n",
        "Для класу \"stairs\":\n",
        "precision: 1.00\n",
        "recall: 0.99\n",
        "F1-score: 1.00\n",
        "\n",
        "Для класу \"walking\":\n",
        "precision: 1.00\n",
        "recall: 1.00\n",
        "F1-score: 1.00\n",
        "\n",
        "З цих даних видно, що випадковий ліс має високі precision, recall і F1-score для всіх класів, у той час як SVM має нижчий recall для класу \"stairs\". Модель випадкового лісу є більш точною для цих даних за цими метриками."
      ],
      "metadata": {
        "id": "49C1XegQ117G"
      }
    }
  ]
}