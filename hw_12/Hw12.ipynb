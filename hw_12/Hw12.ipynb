{
  "nbformat": 4,
  "nbformat_minor": 0,
  "metadata": {
    "colab": {
      "provenance": []
    },
    "kernelspec": {
      "name": "python3",
      "display_name": "Python 3"
    },
    "language_info": {
      "name": "python"
    }
  },
  "cells": [
    {
      "cell_type": "markdown",
      "source": [
        "## Завдання\n",
        "Зробіть summary нижчевказаного тексту використовуючи бібліотеки для NLP: nltk та SpaCy\n"
      ],
      "metadata": {
        "id": "gND6cGLQCjnY"
      }
    },
    {
      "cell_type": "code",
      "source": [
        "import spacy\n",
        "import nltk\n",
        "from nltk.corpus import stopwords\n",
        "from nltk.tokenize import sent_tokenize, word_tokenize\n",
        "from string import punctuation\n",
        "from heapq import nlargest"
      ],
      "metadata": {
        "id": "hI5tueHFCxFn"
      },
      "execution_count": 38,
      "outputs": []
    },
    {
      "cell_type": "code",
      "source": [
        "# Завантаження мовних моделей SpaCy для англійської мови\n",
        "nlp = spacy.load('en_core_web_sm')"
      ],
      "metadata": {
        "id": "20D7S25sEui9"
      },
      "execution_count": 39,
      "outputs": []
    },
    {
      "cell_type": "code",
      "source": [
        "# Текст для обробки\n",
        "text = \"\"\"The Orbiter Discovery, OV-103, is considered eligible for listing in the National Register of Historic Places (NRHP) in the context of the U.S. Space Shuttle Program (1969-2011) under Criterion A in the areas of Space Exploration and Transportation and under Criterion C in the area of Engineering. Because it has achieved significance within the past fifty years, Criteria Consideration G applies. Under Criterion A, Discovery is significant as the oldest of the three extant orbiter vehicles constructed for the Space Shuttle Program (SSP), the longest running American space program to date; she was the third of five orbiters built by NASA. Unlike the Mercury, Gemini, and Apollo programs, the SSP’s emphasis was on cost effectiveness and reusability, and eventually the construction of a space station. Including her maiden voyage (launched August 30, 1984), Discovery flew to space thirty-nine times, more than any of the other four orbiters; she was also the first orbiter to fly twenty missions. She had the honor of being chosen as the Return to Flight vehicle after both the Challenger and Columbia accidents. Discovery was the first shuttle to fly with the redesigned SRBs, a result of the Challenger accident, and the first shuttle to fly with the Phase II and Block I SSME. Discovery also carried the Hubble Space Telescope to orbit and performed two of the five servicing missions to the observatory. She flew the first and last dedicated Department of Defense (DoD) missions, as well as the first unclassified defense-related mission. In addition, Discovery was vital to the construction of the International Space Station (ISS); she flew thirteen of the thirty-seven total missions flown to the station by a U.S. Space Shuttle. She was the first orbiter to dock to the ISS, and the first to perform an exchange of a resident crew. Under Criterion C, Discovery is significant as a feat of engineering. According to Wayne Hale, a flight director from Johnson Space Center, the Space Shuttle orbiter represents a “huge technological leap from expendable rockets and capsules to a reusable, winged, hypersonic, cargo-carrying spacecraft.” Although her base structure followed a conventional aircraft design, she used advanced materials that both minimized her weight for cargo-carrying purposes and featured low thermal expansion ratios, which provided a stable base for her Thermal Protection System (TPS) materials. The Space Shuttle orbiter also featured the first reusable TPS; all previous spaceflight vehicles had a single-use, ablative heat shield. Other notable engineering achievements of the orbiter included the first reusable orbital propulsion system, and the first two-fault-tolerant Integrated Avionics System. As Hale stated, the Space Shuttle remains “the largest, fastest, winged hypersonic aircraft in history,” having regularly flown at twenty-five times the speed of sound.\"\"\""
      ],
      "metadata": {
        "id": "QJAnOuTjEvo-"
      },
      "execution_count": 40,
      "outputs": []
    },
    {
      "cell_type": "code",
      "source": [
        "# Додамо символ нового рядка '\\n' до списку знаків пунктуації\n",
        "punctuation = punctuation + '\\n'"
      ],
      "metadata": {
        "id": "U2JdDv9oKbK6"
      },
      "execution_count": 41,
      "outputs": []
    },
    {
      "cell_type": "code",
      "source": [
        "# Токенізація тексту за допомогою SpaCy\n",
        "doc = nlp(text)\n",
        "tokens = [token.text for token in doc]"
      ],
      "metadata": {
        "id": "BOnGUBwoFVca"
      },
      "execution_count": 42,
      "outputs": []
    },
    {
      "cell_type": "code",
      "source": [
        "# Токенізація тексту NLTK\n",
        "tokens_nltk = word_tokenize(text)"
      ],
      "metadata": {
        "id": "OAJhkRVoHxmb"
      },
      "execution_count": 43,
      "outputs": []
    },
    {
      "cell_type": "code",
      "source": [
        "# Токенизація речень\n",
        "sentences = sent_tokenize(text)"
      ],
      "metadata": {
        "id": "0ZqgFlPHK19r"
      },
      "execution_count": 44,
      "outputs": []
    },
    {
      "cell_type": "code",
      "source": [
        "# Список стоп-слів NLTK\n",
        "stop_words = set(stopwords.words('english'))"
      ],
      "metadata": {
        "id": "9Wvcr1_HK3Z7"
      },
      "execution_count": 45,
      "outputs": []
    },
    {
      "cell_type": "code",
      "source": [
        "# Підрахунок частоти появи слів (з врахуванням знаків пунктуації та символу '\\n')\n",
        "word_frequencies = {}\n",
        "for word in doc:\n",
        "    if word.text.lower() not in stop_words and word.text.lower() not in punctuation:\n",
        "        if word.text not in word_frequencies:\n",
        "            word_frequencies[word.text] = 1\n",
        "        else:\n",
        "            word_frequencies[word.text] += 1"
      ],
      "metadata": {
        "id": "JrVtdLUYHzVw"
      },
      "execution_count": 46,
      "outputs": []
    },
    {
      "cell_type": "code",
      "source": [
        "# Підрахунок частоти появи слів NLTK (з врахуванням знаків пунктуації та символу '\\n')\n",
        "word_frequencies_nltk = {}\n",
        "for word in tokens_nltk:\n",
        "    if word.lower() not in stop_words and word.lower() not in punctuation:\n",
        "        if word not in word_frequencies_nltk:\n",
        "            word_frequencies_nltk[word] = 1\n",
        "        else:\n",
        "            word_frequencies_nltk[word] += 1"
      ],
      "metadata": {
        "id": "g8yxyjNtLIIe"
      },
      "execution_count": 47,
      "outputs": []
    },
    {
      "cell_type": "code",
      "source": [
        "# Обчислення ваги речень (використовуючи NLTK)\n",
        "sentence_scores_nltk = {}\n",
        "for sentence in sentences:\n",
        "    for word in word_tokenize(sentence):\n",
        "        if word.lower() in word_frequencies_nltk:\n",
        "            if sentence not in sentence_scores_nltk:\n",
        "                sentence_scores_nltk[sentence] = word_frequencies_nltk[word.lower()]\n",
        "            else:\n",
        "                sentence_scores_nltk[sentence] += word_frequencies_nltk[word.lower()]"
      ],
      "metadata": {
        "id": "I_YxIUPdH1sA"
      },
      "execution_count": 48,
      "outputs": []
    },
    {
      "cell_type": "code",
      "source": [
        "# Вибір та виведення резюме NLTK\n",
        "select_length = int(len(sentences) * 0.3)\n",
        "summary_nltk = nlargest(select_length, sentence_scores_nltk, key=sentence_scores_nltk.get)\n",
        "for sentence in summary_nltk:\n",
        "    print(sentence)"
      ],
      "metadata": {
        "colab": {
          "base_uri": "https://localhost:8080/"
        },
        "id": "Ts6ShGkHLV3y",
        "outputId": "cc6b0a6a-9223-46c4-a900-61ee88409804"
      },
      "execution_count": 49,
      "outputs": [
        {
          "output_type": "stream",
          "name": "stdout",
          "text": [
            "According to Wayne Hale, a flight director from Johnson Space Center, the Space Shuttle orbiter represents a “huge technological leap from expendable rockets and capsules to a reusable, winged, hypersonic, cargo-carrying spacecraft.” Although her base structure followed a conventional aircraft design, she used advanced materials that both minimized her weight for cargo-carrying purposes and featured low thermal expansion ratios, which provided a stable base for her Thermal Protection System (TPS) materials.\n",
            "Including her maiden voyage (launched August 30, 1984), Discovery flew to space thirty-nine times, more than any of the other four orbiters; she was also the first orbiter to fly twenty missions.\n",
            "Other notable engineering achievements of the orbiter included the first reusable orbital propulsion system, and the first two-fault-tolerant Integrated Avionics System.\n",
            "The Space Shuttle orbiter also featured the first reusable TPS; all previous spaceflight vehicles had a single-use, ablative heat shield.\n"
          ]
        }
      ]
    },
    {
      "cell_type": "code",
      "source": [
        "# Обчислення ваги речень (використовуючи SpaCy)\n",
        "sentence_scores = {}\n",
        "for sentence in doc.sents:\n",
        "    for word in sentence:\n",
        "        if word.text.lower() in word_frequencies:\n",
        "            if sentence.text not in sentence_scores:\n",
        "                sentence_scores[sentence.text] = word_frequencies[word.text.lower()]\n",
        "            else:\n",
        "                sentence_scores[sentence.text] += word_frequencies[word.text.lower()]"
      ],
      "metadata": {
        "id": "k4W-IC5PJvAO"
      },
      "execution_count": 50,
      "outputs": []
    },
    {
      "cell_type": "code",
      "source": [
        "# Вибір та виведення резюме SpaCy\n",
        "select_length = int(len(list(doc.sents)) * 0.3)\n",
        "summary_spacy = nlargest(select_length, sentence_scores, key=sentence_scores.get)\n",
        "for sentence in summary_spacy:\n",
        "    print(sentence)"
      ],
      "metadata": {
        "colab": {
          "base_uri": "https://localhost:8080/"
        },
        "id": "AMxxizEQLkrt",
        "outputId": "64baac99-61d8-48ab-aa50-0e52abce9ece"
      },
      "execution_count": 51,
      "outputs": [
        {
          "output_type": "stream",
          "name": "stdout",
          "text": [
            "Including her maiden voyage (launched August 30, 1984), Discovery flew to space thirty-nine times, more than any of the other four orbiters; she was also the first orbiter to fly twenty missions.\n",
            "Other notable engineering achievements of the orbiter included the first reusable orbital propulsion system, and the first two-fault-tolerant Integrated Avionics System.\n",
            "According to Wayne Hale, a flight director from Johnson Space Center, the Space Shuttle orbiter represents a “huge technological leap from expendable rockets and capsules to a reusable, winged, hypersonic, cargo-carrying spacecraft.”\n",
            "The Space Shuttle orbiter also featured the first reusable TPS; all previous spaceflight vehicles had a single-use, ablative heat shield.\n",
            "She flew the first and last dedicated Department of Defense (DoD) missions, as well as the first unclassified defense-related mission.\n"
          ]
        }
      ]
    },
    {
      "cell_type": "markdown",
      "source": [
        "### Висновки:\n",
        "За допомогою бібліотек SpaCy та NLTK ми створили текстове резюме для наданого тексту про космічний шатл Discovery. Резюме було згенеровано, враховуючи важливість речень на основі частоти вживання слів. Важливість кожного речення визначалася на основі кількості зустрічаних у ньому важливих слів.\n",
        "\n",
        "Обидва підходи з бібліотеками NLTK і SpaCy здатні згенерувати текстові резюме з важливих аспектів наданого тексту, проте вони роблять це у різний спосіб і можуть призвести до трохи різних результатів в залежності від того, як вони обробляють текст.\n",
        "\n",
        "NLTK включає в себе ряд корисних інструментів для обробки тексту, таких як токенізація, видалення стоп-слів та підрахунок частоти слів. У цьому випадку NLTK згенерував таке резюме:\n",
        "\n",
        "1. Опис технологічного прориву космічного шатла Discovery у порівнянні з одноразовими ракетами та капсулами.\n",
        "\n",
        "2. Інформація про кількість місій та досягнень шатла Discovery.\n",
        "\n",
        "3. Вказівка на інженерні досягнення, такі як перший багаторазовий орбітальний рушій та перша інтегрована авіоніка з двома рівнями відмовостійкості.\n",
        "\n",
        "4. Згадка про першу багаторазову систему теплозахисту.\n",
        "\n",
        "З іншого боку, SpaCy відзначається більш простим та зручним способом визначення важливості речень у тексті. У цьому випадку SpaCy згенерував таке резюме:\n",
        "\n",
        "1. Інформація про кількість місій та досягнень шатла Discovery.\n",
        "\n",
        "2. Вказівка на інженерні досягнення, такі як перший багаторазовий орбітальний рушій та перша інтегрована авіоніка з двома рівнями відмовостійкості.\n",
        "\n",
        "3. Опис технологічного прориву космічного шатла Discovery у порівнянні з одноразовими ракетами та капсулами.\n",
        "\n",
        "4. Згадка про першу багаторазову систему теплозахисту.\n",
        "\n",
        "Порівнюючи ці два резюме, бачимо, що вони включають важливі аспекти тексту, але в іншому порядку. NLTK надає більше контекстуальних деталей у початковому абзаці, в той час як SpaCy починає з конкретних фактів. Вибір між ними залежить від конкретного завдання та стилю, який потрібно впровадити в резюме."
      ],
      "metadata": {
        "id": "b9-kXNEyNwSp"
      }
    }
  ]
}