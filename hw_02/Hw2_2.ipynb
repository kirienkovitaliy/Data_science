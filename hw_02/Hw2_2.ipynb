{
  "nbformat": 4,
  "nbformat_minor": 0,
  "metadata": {
    "colab": {
      "provenance": []
    },
    "kernelspec": {
      "name": "python3",
      "display_name": "Python 3"
    },
    "language_info": {
      "name": "python"
    }
  },
  "cells": [
    {
      "cell_type": "code",
      "source": [
        "import pandas as pd\n",
        "import matplotlib.pyplot as plt\n",
        "import seaborn as sns\n",
        "\n",
        "%matplotlib inline"
      ],
      "metadata": {
        "id": "CDYCPX2A7MWE"
      },
      "execution_count": 2,
      "outputs": []
    },
    {
      "cell_type": "markdown",
      "source": [
        "### # Прочитайте файл 2017_jun_final.csv за допомогою методу read_csv"
      ],
      "metadata": {
        "id": "51ydrasD6tm6"
      }
    },
    {
      "cell_type": "code",
      "source": [
        "df = pd.read_csv(\"/content/drive/MyDrive/Colab Notebooks/2017_jun_final.csv\")"
      ],
      "metadata": {
        "id": "U2vzdxcG7dl-"
      },
      "execution_count": 5,
      "outputs": []
    },
    {
      "cell_type": "markdown",
      "source": [
        "### # Прочитайте отриману таблицю, використовуючи метод head"
      ],
      "metadata": {
        "id": "C5B8LJSaA6mF"
      }
    },
    {
      "cell_type": "code",
      "source": [
        "print(df.head())"
      ],
      "metadata": {
        "colab": {
          "base_uri": "https://localhost:8080/"
        },
        "id": "l42hkhF0A93A",
        "outputId": "c45a4ccb-abc4-4e31-ca55-f6d24676c97c"
      },
      "execution_count": 6,
      "outputs": [
        {
          "output_type": "stream",
          "name": "stdout",
          "text": [
            "   N                 Должность Язык.программирования Специализация  \\\n",
            "0  1        Junior QA engineer                   NaN     Manual QA   \n",
            "1  2        Junior QA engineer                   NaN     Manual QA   \n",
            "2  3         Software Engineer               C#/.NET           NaN   \n",
            "3  4         Software Engineer            JavaScript           NaN   \n",
            "4  5  Senior Software Engineer            JavaScript           NaN   \n",
            "\n",
            "  Общий.опыт.работы Опыт.работы.на.текущем.месте  Зарплата.в.месяц  \\\n",
            "0               0.5                          0.5               400   \n",
            "1  меньше 3 месяцев             меньше 3 месяцев               430   \n",
            "2                 4                            1              2500   \n",
            "3                 5                            4              2000   \n",
            "4    10 и более лет                          0.5              4500   \n",
            "\n",
            "   Изменение.зарплаты.за.12.месяцев    Город     Размер.компании  ...  \\\n",
            "0                                 0  Харьков       до 10 человек  ...   \n",
            "1                               130  Харьков  свыше 1000 человек  ...   \n",
            "2                               800     Киев     до 1000 человек  ...   \n",
            "3                               400   Одесса      до 200 человек  ...   \n",
            "4                               500   Другой       до 10 человек  ...   \n",
            "\n",
            "  Еще.студент Уровень.английского                    Предметная.область  \\\n",
            "0        True       ниже среднего                         iOS,eCommerce   \n",
            "1        True       выше среднего                        Веб-разработка   \n",
            "2       False             средний  Веб-разработка,Корпоративные системы   \n",
            "3       False       ниже среднего   Desktop Applications,Веб-разработка   \n",
            "4       False             средний   Desktop Applications,Веб-разработка   \n",
            "\n",
            "       Дата.заполнения                                         User.Agent  \\\n",
            "0  12/06/2017 12:38:08  Mozilla/5.0 (Windows NT 10.0; Win64; x64) Appl...   \n",
            "1  12/06/2017 12:42:51  Mozilla/5.0 (iPad; CPU OS 10_2_1 like Mac OS X...   \n",
            "2  12/06/2017 13:02:47  Mozilla/5.0 (Windows NT 10.0; Win64; x64) Appl...   \n",
            "3  12/06/2017 13:03:01  Mozilla/5.0 (Windows NT 6.1; Win64; x64) Apple...   \n",
            "4  12/06/2017 13:03:47  Mozilla/5.0 (iPhone; CPU iPhone OS 10_3_2 like...   \n",
            "\n",
            "    exp current_job_exp salary Валюта  cls  \n",
            "0   0.5             0.5    400    NaN   QA  \n",
            "1   0.0             0.0    430    NaN   QA  \n",
            "2   4.0             1.0   2500    NaN  DEV  \n",
            "3   5.0             4.0   2000    NaN  DEV  \n",
            "4  10.0             0.5   4500    NaN  DEV  \n",
            "\n",
            "[5 rows x 25 columns]\n"
          ]
        }
      ]
    },
    {
      "cell_type": "markdown",
      "source": [
        "### # Визначте розмір таблиці за допомогою методу shape"
      ],
      "metadata": {
        "id": "xGgPTySnBHyu"
      }
    },
    {
      "cell_type": "code",
      "source": [
        "print(df.shape)"
      ],
      "metadata": {
        "colab": {
          "base_uri": "https://localhost:8080/"
        },
        "id": "pFHOX4mcBJQy",
        "outputId": "3b8aef00-3f9c-4d21-839a-732d718bda68"
      },
      "execution_count": 7,
      "outputs": [
        {
          "output_type": "stream",
          "name": "stdout",
          "text": [
            "(8704, 25)\n"
          ]
        }
      ]
    },
    {
      "cell_type": "markdown",
      "source": [
        "### # Визначте типи всіх стовпців за допомогою dataframe.dtypes"
      ],
      "metadata": {
        "id": "ioqEXmmuBPOa"
      }
    },
    {
      "cell_type": "code",
      "source": [
        "print(df.dtypes)"
      ],
      "metadata": {
        "colab": {
          "base_uri": "https://localhost:8080/"
        },
        "id": "94AKG6M2BUDA",
        "outputId": "ad8f6e4d-9ec2-492a-a884-3e3a479d7ac6"
      },
      "execution_count": 8,
      "outputs": [
        {
          "output_type": "stream",
          "name": "stdout",
          "text": [
            "N                                     int64\n",
            "Должность                            object\n",
            "Язык.программирования                object\n",
            "Специализация                        object\n",
            "Общий.опыт.работы                    object\n",
            "Опыт.работы.на.текущем.месте         object\n",
            "Зарплата.в.месяц                      int64\n",
            "Изменение.зарплаты.за.12.месяцев      int64\n",
            "Город                                object\n",
            "Размер.компании                      object\n",
            "Тип.компании                         object\n",
            "Пол                                  object\n",
            "Возраст                               int64\n",
            "Образование                          object\n",
            "Университет                          object\n",
            "Еще.студент                            bool\n",
            "Уровень.английского                  object\n",
            "Предметная.область                   object\n",
            "Дата.заполнения                      object\n",
            "User.Agent                           object\n",
            "exp                                 float64\n",
            "current_job_exp                     float64\n",
            "salary                                int64\n",
            "Валюта                               object\n",
            "cls                                  object\n",
            "dtype: object\n"
          ]
        }
      ]
    },
    {
      "cell_type": "markdown",
      "source": [
        "### # Порахуйте, яка частка пропусків міститься в кожній колонці (використовуйте методи isnull та sum)"
      ],
      "metadata": {
        "id": "jqdmX-rTBYgd"
      }
    },
    {
      "cell_type": "code",
      "source": [
        "print(df.isnull().sum() / len(df) * 100)"
      ],
      "metadata": {
        "colab": {
          "base_uri": "https://localhost:8080/"
        },
        "id": "b9oA6qm8Bcps",
        "outputId": "1cc9fdb3-7cd4-496e-c542-ab1a3395da8e"
      },
      "execution_count": 9,
      "outputs": [
        {
          "output_type": "stream",
          "name": "stdout",
          "text": [
            "N                                    0.000000\n",
            "Должность                            0.000000\n",
            "Язык.программирования               44.232537\n",
            "Специализация                       82.938879\n",
            "Общий.опыт.работы                    0.000000\n",
            "Опыт.работы.на.текущем.месте         0.000000\n",
            "Зарплата.в.месяц                     0.000000\n",
            "Изменение.зарплаты.за.12.месяцев     0.000000\n",
            "Город                                0.000000\n",
            "Размер.компании                      0.000000\n",
            "Тип.компании                         0.000000\n",
            "Пол                                  0.000000\n",
            "Возраст                              0.000000\n",
            "Образование                          0.000000\n",
            "Университет                          4.113051\n",
            "Еще.студент                          0.000000\n",
            "Уровень.английского                  0.000000\n",
            "Предметная.область                   2.562040\n",
            "Дата.заполнения                      0.000000\n",
            "User.Agent                           0.000000\n",
            "exp                                  0.000000\n",
            "current_job_exp                      0.000000\n",
            "salary                               0.000000\n",
            "Валюта                              99.885110\n",
            "cls                                 18.083640\n",
            "dtype: float64\n"
          ]
        }
      ]
    },
    {
      "cell_type": "markdown",
      "source": [
        "### # Видаліть усі стовпці з пропусками, крім стовпця \"Мова програмування\""
      ],
      "metadata": {
        "id": "zMUOZOcyBsLQ"
      }
    },
    {
      "cell_type": "code",
      "source": [
        "df_1 = ['Язык.программирования'] + list(df.dropna(axis=1, how='any').columns)\n",
        "df = df[df_1]\n",
        "print(df)"
      ],
      "metadata": {
        "colab": {
          "base_uri": "https://localhost:8080/"
        },
        "id": "3EXuibyQBxMU",
        "outputId": "66d326f7-cfe5-4a71-c8af-659b7f28f538"
      },
      "execution_count": 10,
      "outputs": [
        {
          "output_type": "stream",
          "name": "stdout",
          "text": [
            "     Язык.программирования     N                 Должность Общий.опыт.работы  \\\n",
            "0                      NaN     1        Junior QA engineer               0.5   \n",
            "1                      NaN     2        Junior QA engineer  меньше 3 месяцев   \n",
            "2                  C#/.NET     3         Software Engineer                 4   \n",
            "3               JavaScript     4         Software Engineer                 5   \n",
            "4               JavaScript     5  Senior Software Engineer    10 и более лет   \n",
            "...                    ...   ...                       ...               ...   \n",
            "8699                   NaN  8700               QA engineer                 1   \n",
            "8700                   NaN  8701                 Marketing               0.5   \n",
            "8701            Ruby/Rails  8702  Junior Software Engineer                 1   \n",
            "8702                   NaN  8703                 Team lead                 6   \n",
            "8703                  Java  8704  Senior Software Engineer                 7   \n",
            "\n",
            "     Опыт.работы.на.текущем.месте  Зарплата.в.месяц  \\\n",
            "0                             0.5               400   \n",
            "1                меньше 3 месяцев               430   \n",
            "2                               1              2500   \n",
            "3                               4              2000   \n",
            "4                             0.5              4500   \n",
            "...                           ...               ...   \n",
            "8699             меньше 3 месяцев               700   \n",
            "8700                          0.5               400   \n",
            "8701                          0.5               800   \n",
            "8702                            4              2600   \n",
            "8703                            2              5000   \n",
            "\n",
            "      Изменение.зарплаты.за.12.месяцев    Город     Размер.компании  \\\n",
            "0                                    0  Харьков       до 10 человек   \n",
            "1                                  130  Харьков  свыше 1000 человек   \n",
            "2                                  800     Киев     до 1000 человек   \n",
            "3                                  400   Одесса      до 200 человек   \n",
            "4                                  500   Другой       до 10 человек   \n",
            "...                                ...      ...                 ...   \n",
            "8699                               700   Одесса       до 50 человек   \n",
            "8700                               120     Киев       до 50 человек   \n",
            "8701                               500    Львов       до 10 человек   \n",
            "8702                                 0    Днепр  свыше 1000 человек   \n",
            "8703                               800   Одесса     до 1000 человек   \n",
            "\n",
            "         Тип.компании      Пол  Возраст           Образование  Еще.студент  \\\n",
            "0      Аутсорсинговая  женский       20  Незаконченное высшее         True   \n",
            "1      Аутсорсинговая  женский       21  Незаконченное высшее         True   \n",
            "2      Аутсорсинговая  мужской       26                Высшее        False   \n",
            "3         Продуктовая  мужской       30               Среднее        False   \n",
            "4         Продуктовая  мужской       30    Техникум / Колледж        False   \n",
            "...               ...      ...      ...                   ...          ...   \n",
            "8699   Аутсорсинговая  мужской       23                Высшее        False   \n",
            "8700      Продуктовая  женский       22                Высшее        False   \n",
            "8701  Аутстаффинговая  мужской       30  Незаконченное высшее        False   \n",
            "8702   Аутсорсинговая  мужской       34                Высшее        False   \n",
            "8703      Продуктовая  мужской       28                Высшее        False   \n",
            "\n",
            "     Уровень.английского      Дата.заполнения  \\\n",
            "0          ниже среднего  12/06/2017 12:38:08   \n",
            "1          выше среднего  12/06/2017 12:42:51   \n",
            "2                средний  12/06/2017 13:02:47   \n",
            "3          ниже среднего  12/06/2017 13:03:01   \n",
            "4                средний  12/06/2017 13:03:47   \n",
            "...                  ...                  ...   \n",
            "8699             средний  12/07/2017 15:45:24   \n",
            "8700       ниже среднего  12/07/2017 17:00:06   \n",
            "8701       выше среднего  12/07/2017 17:32:26   \n",
            "8702         продвинутый  12/07/2017 18:14:59   \n",
            "8703       выше среднего  12/07/2017 21:28:57   \n",
            "\n",
            "                                             User.Agent   exp  \\\n",
            "0     Mozilla/5.0 (Windows NT 10.0; Win64; x64) Appl...   0.5   \n",
            "1     Mozilla/5.0 (iPad; CPU OS 10_2_1 like Mac OS X...   0.0   \n",
            "2     Mozilla/5.0 (Windows NT 10.0; Win64; x64) Appl...   4.0   \n",
            "3     Mozilla/5.0 (Windows NT 6.1; Win64; x64) Apple...   5.0   \n",
            "4     Mozilla/5.0 (iPhone; CPU iPhone OS 10_3_2 like...  10.0   \n",
            "...                                                 ...   ...   \n",
            "8699  Mozilla/5.0 (X11; Ubuntu; Linux x86_64; rv:54....   1.0   \n",
            "8700  Mozilla/5.0 (Windows NT 10.0; Win64; x64) Appl...   0.5   \n",
            "8701  Mozilla/5.0 (X11; Linux x86_64) AppleWebKit/53...   1.0   \n",
            "8702  Mozilla/5.0 (Windows NT 6.1) AppleWebKit/537.3...   6.0   \n",
            "8703  Mozilla/5.0 (iPad; CPU OS 10_3_2 like Mac OS X...   7.0   \n",
            "\n",
            "      current_job_exp  salary  \n",
            "0                 0.5     400  \n",
            "1                 0.0     430  \n",
            "2                 1.0    2500  \n",
            "3                 4.0    2000  \n",
            "4                 0.5    4500  \n",
            "...               ...     ...  \n",
            "8699              0.0     700  \n",
            "8700              0.5     400  \n",
            "8701              0.5     800  \n",
            "8702              4.0    2600  \n",
            "8703              2.0    5000  \n",
            "\n",
            "[8704 rows x 20 columns]\n"
          ]
        }
      ]
    },
    {
      "cell_type": "markdown",
      "source": [
        "### # Знову порахуйте, яка частка пропусків міститься в кожній колонці і переконайтеся, що залишився тільки стовпець \"Мова.програмування\""
      ],
      "metadata": {
        "id": "PSt-JMtiGjbH"
      }
    },
    {
      "cell_type": "code",
      "source": [
        "print(df.isnull().sum() / len(df) * 100)"
      ],
      "metadata": {
        "colab": {
          "base_uri": "https://localhost:8080/"
        },
        "id": "CtO0kJppGop6",
        "outputId": "e961d8ae-e9b2-4da3-b703-aefacd37b059"
      },
      "execution_count": 11,
      "outputs": [
        {
          "output_type": "stream",
          "name": "stdout",
          "text": [
            "Язык.программирования               44.232537\n",
            "N                                    0.000000\n",
            "Должность                            0.000000\n",
            "Общий.опыт.работы                    0.000000\n",
            "Опыт.работы.на.текущем.месте         0.000000\n",
            "Зарплата.в.месяц                     0.000000\n",
            "Изменение.зарплаты.за.12.месяцев     0.000000\n",
            "Город                                0.000000\n",
            "Размер.компании                      0.000000\n",
            "Тип.компании                         0.000000\n",
            "Пол                                  0.000000\n",
            "Возраст                              0.000000\n",
            "Образование                          0.000000\n",
            "Еще.студент                          0.000000\n",
            "Уровень.английского                  0.000000\n",
            "Дата.заполнения                      0.000000\n",
            "User.Agent                           0.000000\n",
            "exp                                  0.000000\n",
            "current_job_exp                      0.000000\n",
            "salary                               0.000000\n",
            "dtype: float64\n"
          ]
        }
      ]
    },
    {
      "cell_type": "markdown",
      "source": [
        "### # Видаліть усі рядки у вихідній таблиці за допомогою методу dropna"
      ],
      "metadata": {
        "id": "AE54oZGUGzyt"
      }
    },
    {
      "cell_type": "code",
      "source": [
        "df = df.dropna()\n",
        "print(df)"
      ],
      "metadata": {
        "colab": {
          "base_uri": "https://localhost:8080/"
        },
        "id": "iMSw3TJZG21e",
        "outputId": "f4ebcb73-b48d-4977-95b7-8f00462b3a73"
      },
      "execution_count": 12,
      "outputs": [
        {
          "output_type": "stream",
          "name": "stdout",
          "text": [
            "     Язык.программирования     N                 Должность Общий.опыт.работы  \\\n",
            "2                  C#/.NET     3         Software Engineer                 4   \n",
            "3               JavaScript     4         Software Engineer                 5   \n",
            "4               JavaScript     5  Senior Software Engineer    10 и более лет   \n",
            "6                  C#/.NET     7  Junior Software Engineer                 1   \n",
            "7                      C++     8  Senior Software Engineer                 6   \n",
            "...                    ...   ...                       ...               ...   \n",
            "8692                  Java  8693         Software Engineer                 5   \n",
            "8694               C#/.NET  8695  Junior Software Engineer                 1   \n",
            "8695                Python  8696         Software Engineer                 1   \n",
            "8701            Ruby/Rails  8702  Junior Software Engineer                 1   \n",
            "8703                  Java  8704  Senior Software Engineer                 7   \n",
            "\n",
            "     Опыт.работы.на.текущем.месте  Зарплата.в.месяц  \\\n",
            "2                               1              2500   \n",
            "3                               4              2000   \n",
            "4                             0.5              4500   \n",
            "6                меньше 3 месяцев               600   \n",
            "7                               1              3300   \n",
            "...                           ...               ...   \n",
            "8692                            1              3500   \n",
            "8694                            1               550   \n",
            "8695                          0.5              1500   \n",
            "8701                          0.5               800   \n",
            "8703                            2              5000   \n",
            "\n",
            "      Изменение.зарплаты.за.12.месяцев        Город  Размер.компании  \\\n",
            "2                                  800         Киев  до 1000 человек   \n",
            "3                                  400       Одесса   до 200 человек   \n",
            "4                                  500       Другой    до 10 человек   \n",
            "6                                  100  Хмельницкий    до 50 человек   \n",
            "7                                  500         Киев    до 10 человек   \n",
            "...                                ...          ...              ...   \n",
            "8692                               650     Удаленно   до 200 человек   \n",
            "8694                               550      Харьков   до 200 человек   \n",
            "8695                              1000         Киев    до 10 человек   \n",
            "8701                               500        Львов    до 10 человек   \n",
            "8703                               800       Одесса  до 1000 человек   \n",
            "\n",
            "         Тип.компании      Пол  Возраст           Образование  Еще.студент  \\\n",
            "2      Аутсорсинговая  мужской       26                Высшее        False   \n",
            "3         Продуктовая  мужской       30               Среднее        False   \n",
            "4         Продуктовая  мужской       30    Техникум / Колледж        False   \n",
            "6      Аутсорсинговая  мужской       23                Высшее        False   \n",
            "7         Продуктовая  мужской       28                Высшее        False   \n",
            "...               ...      ...      ...                   ...          ...   \n",
            "8692   Аутсорсинговая  женский       28                Высшее        False   \n",
            "8694   Аутсорсинговая  мужской       23                Высшее        False   \n",
            "8695          Стартап  мужской       29                Высшее        False   \n",
            "8701  Аутстаффинговая  мужской       30  Незаконченное высшее        False   \n",
            "8703      Продуктовая  мужской       28                Высшее        False   \n",
            "\n",
            "     Уровень.английского      Дата.заполнения  \\\n",
            "2                средний  12/06/2017 13:02:47   \n",
            "3          ниже среднего  12/06/2017 13:03:01   \n",
            "4                средний  12/06/2017 13:03:47   \n",
            "6          ниже среднего  12/06/2017 13:04:26   \n",
            "7          выше среднего  12/06/2017 13:04:27   \n",
            "...                  ...                  ...   \n",
            "8692             средний  12/07/2017 13:26:49   \n",
            "8694       ниже среднего  12/07/2017 14:14:33   \n",
            "8695             средний  12/07/2017 14:39:21   \n",
            "8701       выше среднего  12/07/2017 17:32:26   \n",
            "8703       выше среднего  12/07/2017 21:28:57   \n",
            "\n",
            "                                             User.Agent   exp  \\\n",
            "2     Mozilla/5.0 (Windows NT 10.0; Win64; x64) Appl...   4.0   \n",
            "3     Mozilla/5.0 (Windows NT 6.1; Win64; x64) Apple...   5.0   \n",
            "4     Mozilla/5.0 (iPhone; CPU iPhone OS 10_3_2 like...  10.0   \n",
            "6     Mozilla/5.0 (Windows NT 10.0; Win64; x64) Appl...   1.0   \n",
            "7     Mozilla/5.0 (X11; Ubuntu; Linux x86_64; rv:53....   6.0   \n",
            "...                                                 ...   ...   \n",
            "8692  Mozilla/5.0 (Macintosh; Intel Mac OS X 10_12_5...   5.0   \n",
            "8694  Mozilla/5.0 (Windows NT 10.0; WOW64; rv:54.0) ...   1.0   \n",
            "8695  Mozilla/5.0 (X11; Linux x86_64) AppleWebKit/53...   1.0   \n",
            "8701  Mozilla/5.0 (X11; Linux x86_64) AppleWebKit/53...   1.0   \n",
            "8703  Mozilla/5.0 (iPad; CPU OS 10_3_2 like Mac OS X...   7.0   \n",
            "\n",
            "      current_job_exp  salary  \n",
            "2                 1.0    2500  \n",
            "3                 4.0    2000  \n",
            "4                 0.5    4500  \n",
            "6                 0.0     600  \n",
            "7                 1.0    3300  \n",
            "...               ...     ...  \n",
            "8692              1.0    3500  \n",
            "8694              1.0     550  \n",
            "8695              0.5    1500  \n",
            "8701              0.5     800  \n",
            "8703              2.0    5000  \n",
            "\n",
            "[4854 rows x 20 columns]\n"
          ]
        }
      ]
    },
    {
      "cell_type": "markdown",
      "source": [
        "### # Визначте новий розмір таблиці за допомогою методу shape"
      ],
      "metadata": {
        "id": "sZMgvzffHdvU"
      }
    },
    {
      "cell_type": "code",
      "source": [
        "print(df.shape)"
      ],
      "metadata": {
        "colab": {
          "base_uri": "https://localhost:8080/"
        },
        "id": "SL5v6ZpqHhU1",
        "outputId": "2a2fb4b3-d8d4-4e28-e8fc-68151397fb5e"
      },
      "execution_count": 13,
      "outputs": [
        {
          "output_type": "stream",
          "name": "stdout",
          "text": [
            "(4854, 20)\n"
          ]
        }
      ]
    },
    {
      "cell_type": "markdown",
      "source": [
        "### # Створіть нову таблицю python_data, в якій будуть тільки рядки зі спеціалістами, які вказали мову програмування Python"
      ],
      "metadata": {
        "id": "zrqr2w0iH0GE"
      }
    },
    {
      "cell_type": "code",
      "source": [
        "python_data = df[df[\"Язык.программирования\"] == \"Python\"]\n",
        "print(python_data)"
      ],
      "metadata": {
        "colab": {
          "base_uri": "https://localhost:8080/"
        },
        "id": "_RIHafxoH3wk",
        "outputId": "a5a7d52a-ec11-407f-8f7d-c3d87c7d14e7"
      },
      "execution_count": 14,
      "outputs": [
        {
          "output_type": "stream",
          "name": "stdout",
          "text": [
            "     Язык.программирования     N                 Должность Общий.опыт.работы  \\\n",
            "12                  Python    13         Software Engineer                 1   \n",
            "68                  Python    69         Software Engineer               1.5   \n",
            "87                  Python    88  Junior Software Engineer               0.5   \n",
            "114                 Python   115  Junior Software Engineer               1.5   \n",
            "143                 Python   144  Junior Software Engineer                 1   \n",
            "...                    ...   ...                       ...               ...   \n",
            "8546                Python  8547         Software Engineer                 5   \n",
            "8625                Python  8626         Software Engineer                 4   \n",
            "8635                Python  8636  Senior Software Engineer    10 и более лет   \n",
            "8673                Python  8674  Junior Software Engineer               0.5   \n",
            "8695                Python  8696         Software Engineer                 1   \n",
            "\n",
            "     Опыт.работы.на.текущем.месте  Зарплата.в.месяц  \\\n",
            "12               меньше 3 месяцев               800   \n",
            "68                            0.5               900   \n",
            "87                            0.5               600   \n",
            "114                           0.5               685   \n",
            "143                             1               750   \n",
            "...                           ...               ...   \n",
            "8546                            1              2000   \n",
            "8625                            1              1750   \n",
            "8635             меньше 3 месяцев              4000   \n",
            "8673                          0.5               350   \n",
            "8695                          0.5              1500   \n",
            "\n",
            "      Изменение.зарплаты.за.12.месяцев      Город     Размер.компании  \\\n",
            "12                                 200       Киев       до 50 человек   \n",
            "68                                 900       Киев       до 10 человек   \n",
            "87                                   0       Киев       до 10 человек   \n",
            "114                                250       Киев     до 1000 человек   \n",
            "143                                250       Киев       до 10 человек   \n",
            "...                                ...        ...                 ...   \n",
            "8546                               800  Запорожье       до 50 человек   \n",
            "8625                                 0       Киев  свыше 1000 человек   \n",
            "8635                              1300   Удаленно       до 10 человек   \n",
            "8673                                50       Киев       до 50 человек   \n",
            "8695                              1000       Киев       до 10 человек   \n",
            "\n",
            "        Тип.компании      Пол  Возраст           Образование  Еще.студент  \\\n",
            "12    Аутсорсинговая  мужской       26                Высшее        False   \n",
            "68           Стартап  мужской       21  Незаконченное высшее         True   \n",
            "87    Аутсорсинговая  мужской       19  Незаконченное высшее         True   \n",
            "114   Аутсорсинговая  мужской       21  Незаконченное высшее        False   \n",
            "143   Аутсорсинговая  мужской       21  Незаконченное высшее         True   \n",
            "...              ...      ...      ...                   ...          ...   \n",
            "8546  Аутсорсинговая  мужской       22  Незаконченное высшее        False   \n",
            "8625  Аутсорсинговая  мужской       28               Среднее        False   \n",
            "8635         Стартап  мужской       33                Высшее        False   \n",
            "8673  Аутсорсинговая  мужской       22                Высшее        False   \n",
            "8695         Стартап  мужской       29                Высшее        False   \n",
            "\n",
            "     Уровень.английского      Дата.заполнения  \\\n",
            "12         ниже среднего  12/06/2017 13:05:54   \n",
            "68         выше среднего  12/06/2017 13:11:17   \n",
            "87         выше среднего  12/06/2017 13:12:25   \n",
            "114              средний  12/06/2017 13:14:52   \n",
            "143        выше среднего  12/06/2017 13:19:10   \n",
            "...                  ...                  ...   \n",
            "8546             средний  10/07/2017 14:11:26   \n",
            "8625             средний  11/07/2017 16:15:40   \n",
            "8635       выше среднего  11/07/2017 17:51:36   \n",
            "8673             средний  12/07/2017 09:37:16   \n",
            "8695             средний  12/07/2017 14:39:21   \n",
            "\n",
            "                                             User.Agent   exp  \\\n",
            "12    Mozilla/5.0 (Windows NT 6.1; Win64; x64) Apple...   1.0   \n",
            "68    Mozilla/5.0 (Windows NT 10.0; Win64; x64) Appl...   1.5   \n",
            "87    Mozilla/5.0 (X11; Linux x86_64) AppleWebKit/53...   0.5   \n",
            "114   Mozilla/5.0 (X11; Linux x86_64) AppleWebKit/53...   1.5   \n",
            "143   Mozilla/5.0 (X11; Linux x86_64) AppleWebKit/53...   1.0   \n",
            "...                                                 ...   ...   \n",
            "8546  Mozilla/5.0 (Macintosh; Intel Mac OS X 10_12_5...   5.0   \n",
            "8625  Mozilla/5.0 (X11; Ubuntu; Linux x86_64; rv:54....   4.0   \n",
            "8635  Mozilla/5.0 (X11; Linux x86_64) AppleWebKit/53...  10.0   \n",
            "8673  Mozilla/5.0 (X11; Ubuntu; Linux x86_64; rv:54....   0.5   \n",
            "8695  Mozilla/5.0 (X11; Linux x86_64) AppleWebKit/53...   1.0   \n",
            "\n",
            "      current_job_exp  salary  \n",
            "12                0.0     800  \n",
            "68                0.5     900  \n",
            "87                0.5     600  \n",
            "114               0.5     685  \n",
            "143               1.0     750  \n",
            "...               ...     ...  \n",
            "8546              1.0    2000  \n",
            "8625              1.0    1750  \n",
            "8635              0.0    4000  \n",
            "8673              0.5     350  \n",
            "8695              0.5    1500  \n",
            "\n",
            "[207 rows x 20 columns]\n"
          ]
        }
      ]
    },
    {
      "cell_type": "markdown",
      "source": [
        "### # Визначте розмір таблиці python_data за допомогою методу shape"
      ],
      "metadata": {
        "id": "mWIZcscWILMJ"
      }
    },
    {
      "cell_type": "code",
      "source": [
        "print(python_data.shape)"
      ],
      "metadata": {
        "colab": {
          "base_uri": "https://localhost:8080/"
        },
        "id": "ROyR5MDZIPFM",
        "outputId": "b99a1cd2-fb78-4110-a415-a1c656b99659"
      },
      "execution_count": 15,
      "outputs": [
        {
          "output_type": "stream",
          "name": "stdout",
          "text": [
            "(207, 20)\n"
          ]
        }
      ]
    },
    {
      "cell_type": "markdown",
      "source": [
        "### # Використовуючи метод groupby, виконайте групування за стовпчиком \"Посада\""
      ],
      "metadata": {
        "id": "b607ms6nIWDw"
      }
    },
    {
      "cell_type": "code",
      "source": [
        "df = df.groupby(\"Должность\")\n",
        "print(df)"
      ],
      "metadata": {
        "colab": {
          "base_uri": "https://localhost:8080/"
        },
        "id": "mnrgu11fIZ54",
        "outputId": "bc2e3d89-499d-43e3-f1ae-2c2888bdca3f"
      },
      "execution_count": 16,
      "outputs": [
        {
          "output_type": "stream",
          "name": "stdout",
          "text": [
            "<pandas.core.groupby.generic.DataFrameGroupBy object at 0x7e38f6ed2590>\n"
          ]
        }
      ]
    },
    {
      "cell_type": "markdown",
      "source": [
        "### # Створіть новий DataFrame, де для згрупованих даних за стовпчиком \"Посада\", виконайте агрегацію даних за допомогою методу agg і знайдіть мінімальне та максимальне значення у стовпчику \"Зарплата.в.місяць\""
      ],
      "metadata": {
        "id": "5r5eHs6VIxpG"
      }
    },
    {
      "cell_type": "code",
      "source": [
        "aggregated = df.agg({\"Зарплата.в.месяц\": [\"min\", \"max\"]})\n",
        "print(aggregated)"
      ],
      "metadata": {
        "colab": {
          "base_uri": "https://localhost:8080/"
        },
        "id": "hgcMgE5VI0Pr",
        "outputId": "c1850a01-0c25-43bd-934a-6e3ebd38fa3c"
      },
      "execution_count": 17,
      "outputs": [
        {
          "output_type": "stream",
          "name": "stdout",
          "text": [
            "                              Зарплата.в.месяц       \n",
            "                                           min    max\n",
            "Должность                                            \n",
            "Data Scientist / Data Analyst             2700   2700\n",
            "DevOps                                    7000   7000\n",
            "ERP / CRM                                 2000   2000\n",
            "HTML coder                                 385    600\n",
            "Junior Software Engineer                    75   2600\n",
            "Product Manager                           3000   3000\n",
            "Senior Software Engineer                   350   9200\n",
            "Software Engineer                          100   7000\n",
            "System Architect                           400  10000\n",
            "Team lead                                 2500   4000\n",
            "Technical Lead                             500  18000\n"
          ]
        }
      ]
    },
    {
      "cell_type": "markdown",
      "source": [
        "### # Створіть функцію fill_avg_salary, яка повертатиме середнє значення заробітної плати на місяць. Використовуйте її для методу apply та створіть новий стовпчик \"avg\""
      ],
      "metadata": {
        "id": "WG7XClp6JPBM"
      }
    },
    {
      "cell_type": "code",
      "source": [
        "def fill_avg_salary(row):\n",
        "    return (row[\"Зарплата.в.месяц\"][\"min\"] + row[\"Зарплата.в.месяц\"][\"max\"]) / 2"
      ],
      "metadata": {
        "id": "i7Db8vYpJQW2"
      },
      "execution_count": 18,
      "outputs": []
    },
    {
      "cell_type": "code",
      "source": [
        "aggregated[\"avg\"] = aggregated.apply(fill_avg_salary, axis=1)\n",
        "print(aggregated)"
      ],
      "metadata": {
        "colab": {
          "base_uri": "https://localhost:8080/"
        },
        "id": "seBB-ykhJjA0",
        "outputId": "fbc76eba-f6b5-42ad-dd0d-71ce4203d5a7"
      },
      "execution_count": 19,
      "outputs": [
        {
          "output_type": "stream",
          "name": "stdout",
          "text": [
            "                              Зарплата.в.месяц            avg\n",
            "                                           min    max        \n",
            "Должность                                                    \n",
            "Data Scientist / Data Analyst             2700   2700  2700.0\n",
            "DevOps                                    7000   7000  7000.0\n",
            "ERP / CRM                                 2000   2000  2000.0\n",
            "HTML coder                                 385    600   492.5\n",
            "Junior Software Engineer                    75   2600  1337.5\n",
            "Product Manager                           3000   3000  3000.0\n",
            "Senior Software Engineer                   350   9200  4775.0\n",
            "Software Engineer                          100   7000  3550.0\n",
            "System Architect                           400  10000  5200.0\n",
            "Team lead                                 2500   4000  3250.0\n",
            "Technical Lead                             500  18000  9250.0\n"
          ]
        }
      ]
    },
    {
      "cell_type": "markdown",
      "source": [
        "### # Створіть описову статистику за допомогою методу describe для нового стовпчика."
      ],
      "metadata": {
        "id": "ZiLDExi8MiMC"
      }
    },
    {
      "cell_type": "code",
      "source": [
        "print(aggregated[\"avg\"].describe())"
      ],
      "metadata": {
        "colab": {
          "base_uri": "https://localhost:8080/"
        },
        "id": "vtL5Ja-EMg7w",
        "outputId": "eb2d717e-dec0-4b9b-db98-d96709e9caaf"
      },
      "execution_count": 20,
      "outputs": [
        {
          "output_type": "stream",
          "name": "stdout",
          "text": [
            "count      11.000000\n",
            "mean     3868.636364\n",
            "std      2554.599128\n",
            "min       492.500000\n",
            "25%      2350.000000\n",
            "50%      3250.000000\n",
            "75%      4987.500000\n",
            "max      9250.000000\n",
            "Name: avg, dtype: float64\n"
          ]
        }
      ]
    },
    {
      "cell_type": "markdown",
      "source": [
        "### # Збережіть отриману таблицю в CSV файл"
      ],
      "metadata": {
        "id": "4R82LWSvNAc-"
      }
    },
    {
      "cell_type": "code",
      "source": [
        "aggregated.to_csv(\"aggregated_data.csv\", index=False)"
      ],
      "metadata": {
        "id": "e9gYwDKgM80n"
      },
      "execution_count": 21,
      "outputs": []
    },
    {
      "cell_type": "code",
      "source": [
        "plt.figure(figsize=(12, 6))\n",
        "sns.boxplot(data=python_data, x='Должность', y='Зарплата.в.месяц')\n",
        "plt.xlabel('Посада')\n",
        "plt.ylabel('Зарплата.в.місяць')\n",
        "plt.title('Розподіл зарплати по посадам')\n",
        "plt.xticks(rotation=45)\n",
        "plt.show()"
      ],
      "metadata": {
        "colab": {
          "base_uri": "https://localhost:8080/",
          "height": 685
        },
        "id": "ZzK32iRyZ_Vu",
        "outputId": "4224956d-c13d-4098-b3de-f694b410f6d8"
      },
      "execution_count": 24,
      "outputs": [
        {
          "output_type": "display_data",
          "data": {
            "text/plain": [
              "<Figure size 1200x600 with 1 Axes>"
            ],
            "image/png": "[encoded data removed]"
          },
          "metadata": {}
        }
      ]
    },
    {
      "cell_type": "code",
      "source": [
        "plt.figure(figsize=(6, 4))\n",
        "sns.histplot(data=aggregated, x='avg', bins=10, kde=True)\n",
        "plt.xlabel('Середня зарплата')\n",
        "plt.ylabel('Частота')\n",
        "plt.title('Розподіл середньої зарплати')\n",
        "plt.show()"
      ],
      "metadata": {
        "colab": {
          "base_uri": "https://localhost:8080/",
          "height": 410
        },
        "id": "zHC_ye4za_tZ",
        "outputId": "bf05b5dd-f014-40ff-fe38-4ae57524b1a7"
      },
      "execution_count": 26,
      "outputs": [
        {
          "output_type": "display_data",
          "data": {
            "text/plain": [
              "<Figure size 600x400 with 1 Axes>"
            ],
            "image/png": "[encoded data removed]"
          },
          "metadata": {}
        }
      ]
    },
    {
      "cell_type": "code",
      "source": [
        "plt.figure(figsize=(12, 6))\n",
        "sns.swarmplot(data=python_data, x='Должность', y='Зарплата.в.месяц')\n",
        "plt.xlabel('Посада')\n",
        "plt.ylabel('Зарплата.в.місяць')\n",
        "plt.title('Розподіл зарплати по посадам (жуковий графік)')\n",
        "plt.xticks(rotation=45)\n",
        "plt.show()"
      ],
      "metadata": {
        "colab": {
          "base_uri": "https://localhost:8080/",
          "height": 685
        },
        "id": "qfg6bdOUbzyt",
        "outputId": "526eacf5-855a-456f-8bed-817b0de1db43"
      },
      "execution_count": 31,
      "outputs": [
        {
          "output_type": "display_data",
          "data": {
            "text/plain": [
              "<Figure size 1200x600 with 1 Axes>"
            ],
            "image/png": "[encoded data removed]"
          },
          "metadata": {}
        }
      ]
    }
  ]
}