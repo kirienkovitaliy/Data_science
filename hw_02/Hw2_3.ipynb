{
  "nbformat": 4,
  "nbformat_minor": 0,
  "metadata": {
    "colab": {
      "provenance": []
    },
    "kernelspec": {
      "name": "python3",
      "display_name": "Python 3"
    },
    "language_info": {
      "name": "python"
    }
  },
  "cells": [
    {
      "cell_type": "code",
      "execution_count": 1,
      "metadata": {
        "id": "wtMoQm7vP728"
      },
      "outputs": [],
      "source": [
        "%matplotlib inline\n",
        "import matplotlib.pyplot as plt\n",
        "import pandas as pd\n",
        "import seaborn as sns"
      ]
    },
    {
      "cell_type": "markdown",
      "source": [
        "### # Прочитайте csv файл (використовуйте функцію read_csv)"
      ],
      "metadata": {
        "id": "vwvDTe-wRddR"
      }
    },
    {
      "cell_type": "code",
      "source": [
        "df = pd.read_csv(\"/content/drive/MyDrive/Colab Notebooks/bestsellers with categories.csv\")"
      ],
      "metadata": {
        "id": "VeC66fBZRe2f"
      },
      "execution_count": 3,
      "outputs": []
    },
    {
      "cell_type": "markdown",
      "source": [
        "### # Виведіть перші п'ять рядків (використовується функція head)"
      ],
      "metadata": {
        "id": "2sXrz3lFRzHZ"
      }
    },
    {
      "cell_type": "code",
      "source": [
        "print(df.head())"
      ],
      "metadata": {
        "colab": {
          "base_uri": "https://localhost:8080/"
        },
        "id": "s6dxGzIZSBMv",
        "outputId": "8087b4ae-def7-4156-c1ea-6de2ea0a99a0"
      },
      "execution_count": 4,
      "outputs": [
        {
          "output_type": "stream",
          "name": "stdout",
          "text": [
            "                                                Name  \\\n",
            "0                      10-Day Green Smoothie Cleanse   \n",
            "1                                  11/22/63: A Novel   \n",
            "2            12 Rules for Life: An Antidote to Chaos   \n",
            "3                             1984 (Signet Classics)   \n",
            "4  5,000 Awesome Facts (About Everything!) (Natio...   \n",
            "\n",
            "                     Author  User Rating  Reviews  Price  Year        Genre  \n",
            "0                  JJ Smith          4.7    17350      8  2016  Non Fiction  \n",
            "1              Stephen King          4.6     2052     22  2011      Fiction  \n",
            "2        Jordan B. Peterson          4.7    18979     15  2018  Non Fiction  \n",
            "3             George Orwell          4.7    21424      6  2017      Fiction  \n",
            "4  National Geographic Kids          4.8     7665     12  2019  Non Fiction  \n"
          ]
        }
      ]
    },
    {
      "cell_type": "markdown",
      "source": [
        "### # Виведіть розміри датасету (використовуйте атрибут shape)"
      ],
      "metadata": {
        "id": "cCq8RemsSGP2"
      }
    },
    {
      "cell_type": "code",
      "source": [
        "print(df.shape)\n"
      ],
      "metadata": {
        "colab": {
          "base_uri": "https://localhost:8080/"
        },
        "id": "_JZIaVR6SJQA",
        "outputId": "a938d0bc-9e26-46a6-ea84-d325d4e8970f"
      },
      "execution_count": 5,
      "outputs": [
        {
          "output_type": "stream",
          "name": "stdout",
          "text": [
            "(550, 7)\n"
          ]
        }
      ]
    },
    {
      "cell_type": "markdown",
      "source": [
        "### # Про скільки книг зберігає дані датасет?\n",
        "Відповідь: 550"
      ],
      "metadata": {
        "id": "MJ80eRHFSXqx"
      }
    },
    {
      "cell_type": "code",
      "source": [
        "df.columns = ['name', 'author', 'user_rating', 'reviews', 'price', 'year', 'genre']"
      ],
      "metadata": {
        "id": "GQeYB9k4TBOS"
      },
      "execution_count": 6,
      "outputs": []
    },
    {
      "cell_type": "markdown",
      "source": [
        "### # Перевірте, чи у всіх рядків вистачає даних: виведіть кількість пропусків (na) у кожному зі стовпців (використовуйте функції isna та sum)"
      ],
      "metadata": {
        "id": "_SR1qyVGTHVg"
      }
    },
    {
      "cell_type": "code",
      "source": [
        "print(df.isna().sum())"
      ],
      "metadata": {
        "colab": {
          "base_uri": "https://localhost:8080/"
        },
        "id": "YSNMo-4VTIk3",
        "outputId": "ff5c7ac5-6643-4ebd-da27-d95b9f4ec056"
      },
      "execution_count": 7,
      "outputs": [
        {
          "output_type": "stream",
          "name": "stdout",
          "text": [
            "name           0\n",
            "author         0\n",
            "user_rating    0\n",
            "reviews        0\n",
            "price          0\n",
            "year           0\n",
            "genre          0\n",
            "dtype: int64\n"
          ]
        }
      ]
    },
    {
      "cell_type": "markdown",
      "source": [
        "Відповідь: ні"
      ],
      "metadata": {
        "id": "8j88-RzCTyJB"
      }
    },
    {
      "cell_type": "markdown",
      "source": [
        "### # Перевірте, які є унікальні значення в колонці genre (використовуйте функцію unique)"
      ],
      "metadata": {
        "id": "F6J8PhHCT7Y9"
      }
    },
    {
      "cell_type": "code",
      "source": [
        "print(df[\"genre\"].unique())"
      ],
      "metadata": {
        "colab": {
          "base_uri": "https://localhost:8080/"
        },
        "id": "nYBrhfqVT9so",
        "outputId": "ed485d35-55c3-43cd-a346-96528b4d7e07"
      },
      "execution_count": 8,
      "outputs": [
        {
          "output_type": "stream",
          "name": "stdout",
          "text": [
            "['Non Fiction' 'Fiction']\n"
          ]
        }
      ]
    },
    {
      "cell_type": "markdown",
      "source": [
        "Відповідь: унікальні жанри: \"Non Fiction\", \"Fiction\""
      ],
      "metadata": {
        "id": "j-uqPujhUUuc"
      }
    },
    {
      "cell_type": "markdown",
      "source": [
        "### # Тепер подивіться на розподіл цін: побудуйте діаграму (використовуйте kind='hist')"
      ],
      "metadata": {
        "id": "aChl8WdiUqn3"
      }
    },
    {
      "cell_type": "code",
      "source": [
        "plt.hist(df[\"price\"], edgecolor='black')\n",
        "plt.xlabel(\"Ціна\")\n",
        "plt.ylabel(\"Кількість книг\")\n",
        "plt.title(\"Розподіл цін на книги\")\n",
        "plt.show()\n"
      ],
      "metadata": {
        "colab": {
          "base_uri": "https://localhost:8080/",
          "height": 472
        },
        "id": "YiCiVDaNU-rO",
        "outputId": "8434f1b8-8904-425f-91c4-8226a16b9e1f"
      },
      "execution_count": 14,
      "outputs": [
        {
          "output_type": "display_data",
          "data": {
            "text/plain": [
              "<Figure size 640x480 with 1 Axes>"
            ],
            "image/png": "[encoded data removed]"
          },
          "metadata": {}
        }
      ]
    },
    {
      "cell_type": "markdown",
      "source": [
        "### # Визначте, яка ціна у нас максимальна, мінімальна, середня, медіанна (використовуйте функції max, min, mean, median)"
      ],
      "metadata": {
        "id": "r1uOQmo6VgA0"
      }
    },
    {
      "cell_type": "code",
      "source": [
        "max_price = df[\"price\"].max()\n",
        "min_price = df[\"price\"].min()\n",
        "mean_price = df[\"price\"].mean()\n",
        "median_price = df[\"price\"].median()\n",
        "\n",
        "print(\"Максимальна ціна:\", max_price)\n",
        "print(\"Мінімальна ціна:\", min_price)\n",
        "print(\"Середня ціна:\", mean_price)\n",
        "print(\"Медіанна ціна:\", median_price)\n"
      ],
      "metadata": {
        "colab": {
          "base_uri": "https://localhost:8080/"
        },
        "id": "h2qNxH4zVhbA",
        "outputId": "0f6451ae-d1a3-4260-fafb-4205384b57be"
      },
      "execution_count": 16,
      "outputs": [
        {
          "output_type": "stream",
          "name": "stdout",
          "text": [
            "Максимальна ціна: 105\n",
            "Мінімальна ціна: 0\n",
            "Середня ціна: 13.1\n",
            "Медіанна ціна: 11.0\n"
          ]
        }
      ]
    },
    {
      "cell_type": "markdown",
      "source": [
        "Відповідь: Максимальна ціна? 105\n",
        "\n",
        "Відповідь: Мінімальна ціна? 0\n",
        "\n",
        "Відповідь: Середня ціна? 13.1\n",
        "\n",
        "Відповідь: Медіанна ціна? 11.0"
      ],
      "metadata": {
        "id": "Hl5djg6CWKpR"
      }
    },
    {
      "cell_type": "markdown",
      "source": [
        "Який рейтинг у датасеті найвищий?"
      ],
      "metadata": {
        "id": "oxMSKfU9WaOV"
      }
    },
    {
      "cell_type": "code",
      "source": [
        "highest_rating = df[\"user_rating\"].max()\n",
        "print(highest_rating)"
      ],
      "metadata": {
        "colab": {
          "base_uri": "https://localhost:8080/"
        },
        "id": "B2udd_FiWk3_",
        "outputId": "947cd1b5-7218-4987-b18a-512df3edf8b6"
      },
      "execution_count": 18,
      "outputs": [
        {
          "output_type": "stream",
          "name": "stdout",
          "text": [
            "4.9\n"
          ]
        }
      ]
    },
    {
      "cell_type": "markdown",
      "source": [
        "Відповідь: 4.9"
      ],
      "metadata": {
        "id": "F6-jBRyHWusF"
      }
    },
    {
      "cell_type": "markdown",
      "source": [
        "### # Скільки книг мають такий рейтинг?"
      ],
      "metadata": {
        "id": "DY7tEulBW9kx"
      }
    },
    {
      "cell_type": "code",
      "source": [
        "num_books_with_highest_rating = df[\"user_rating\"].value_counts()[highest_rating]\n",
        "print(num_books_with_highest_rating)\n"
      ],
      "metadata": {
        "colab": {
          "base_uri": "https://localhost:8080/"
        },
        "id": "c8M0WEJ4XECN",
        "outputId": "0ff69f01-fd2c-41a1-8133-5a5871821238"
      },
      "execution_count": 20,
      "outputs": [
        {
          "output_type": "stream",
          "name": "stdout",
          "text": [
            "52\n"
          ]
        }
      ]
    },
    {
      "cell_type": "markdown",
      "source": [
        "Відповідь: 52 книги"
      ],
      "metadata": {
        "id": "aly68I2rXlRY"
      }
    },
    {
      "cell_type": "markdown",
      "source": [
        "### # Яка книга має найбільше відгуків?"
      ],
      "metadata": {
        "id": "lTpC9rFbXsdl"
      }
    },
    {
      "cell_type": "code",
      "source": [
        "max_reviews_index = df[\"reviews\"].idxmax()\n",
        "book_with_most_reviews = df.loc[max_reviews_index, \"name\"]\n",
        "print(book_with_most_reviews)\n"
      ],
      "metadata": {
        "colab": {
          "base_uri": "https://localhost:8080/"
        },
        "id": "xlwqa1LxXz5E",
        "outputId": "1e6b9db9-b30e-46a6-b6ed-cb6c166aac02"
      },
      "execution_count": 21,
      "outputs": [
        {
          "output_type": "stream",
          "name": "stdout",
          "text": [
            "Where the Crawdads Sing\n"
          ]
        }
      ]
    },
    {
      "cell_type": "markdown",
      "source": [
        "Відповідь: \"Where the Crawdads Sing\""
      ],
      "metadata": {
        "id": "lcabPVeKYBfa"
      }
    },
    {
      "cell_type": "markdown",
      "source": [
        "### # З тих книг, що потрапили до Топ-50 у 2015 році, яка книга найдорожча (можна використати проміжний датафрейм)?"
      ],
      "metadata": {
        "id": "OKZ4A2HXYGrn"
      }
    },
    {
      "cell_type": "code",
      "source": [
        "df_books_2015 = df[df[\"year\"] == 2015]\n",
        "max_price_index = df_books_2015[\"price\"].idxmax()\n",
        "most_expensive_book_2015 = df_books_2015.loc[max_price_index, \"name\"]\n",
        "print(most_expensive_book_2015)\n"
      ],
      "metadata": {
        "colab": {
          "base_uri": "https://localhost:8080/"
        },
        "id": "Y3gOouDtYWfs",
        "outputId": "c8e976fb-8015-4c5b-8d96-c269a6ae815c"
      },
      "execution_count": 23,
      "outputs": [
        {
          "output_type": "stream",
          "name": "stdout",
          "text": [
            "Publication Manual of the American Psychological Association, 6th Edition\n"
          ]
        }
      ]
    },
    {
      "cell_type": "markdown",
      "source": [
        "Відповідь: \"Publication Manual of the American Psychological Association, 6th Edition\""
      ],
      "metadata": {
        "id": "AH8UWZslYh38"
      }
    },
    {
      "cell_type": "markdown",
      "source": [
        "### # Скільки книг жанру Fiction потрапили до Топ-50 у 2010 році (використовуйте &)?"
      ],
      "metadata": {
        "id": "2tB0ByleYvUR"
      }
    },
    {
      "cell_type": "code",
      "source": [
        "count_fiction_2010 = df[(df[\"genre\"] == \"Fiction\") & (df[\"year\"] == 2010)].shape[0]\n",
        "print(count_fiction_2010)\n"
      ],
      "metadata": {
        "colab": {
          "base_uri": "https://localhost:8080/"
        },
        "id": "gMQuJpR3YzmS",
        "outputId": "3606baa0-fdf2-4975-bde1-c7b3f529cfe8"
      },
      "execution_count": 24,
      "outputs": [
        {
          "output_type": "stream",
          "name": "stdout",
          "text": [
            "20\n"
          ]
        }
      ]
    },
    {
      "cell_type": "markdown",
      "source": [
        "Відповідь: 20"
      ],
      "metadata": {
        "id": "Hz3k_Jt3ZA5o"
      }
    },
    {
      "cell_type": "markdown",
      "source": [
        "### # Скільки книг з рейтингом 4.9 потрапило до рейтингу у 2010 та 2011 роках (використовуйте | або функцію isin)?"
      ],
      "metadata": {
        "id": "PTU2Pr97ZEHb"
      }
    },
    {
      "cell_type": "code",
      "source": [
        "count_rating_4_9 = df[(df[\"user_rating\"] == 4.9) & (df[\"year\"].isin([2010, 2011]))].shape[0]\n",
        "print(count_rating_4_9)\n"
      ],
      "metadata": {
        "colab": {
          "base_uri": "https://localhost:8080/"
        },
        "id": "Af0rN3q0ZJ0f",
        "outputId": "0869ef91-de5f-4bd4-a680-7f724ba53a0c"
      },
      "execution_count": 25,
      "outputs": [
        {
          "output_type": "stream",
          "name": "stdout",
          "text": [
            "1\n"
          ]
        }
      ]
    },
    {
      "cell_type": "markdown",
      "source": [
        "Відповідь: 1"
      ],
      "metadata": {
        "id": "lypfbi5hZbKm"
      }
    },
    {
      "cell_type": "markdown",
      "source": [
        "### # І насамкінець, давайте відсортуємо за зростанням ціни всі книги, які потрапили до рейтингу в 2015 році і коштують дешевше за 8 доларів (використовуйте функцію sort_values)."
      ],
      "metadata": {
        "id": "J5f9F3taZdEF"
      }
    },
    {
      "cell_type": "code",
      "source": [
        "sorted_books_2015_under_8 = df[(df[\"year\"] == 2015) & (df[\"price\"] < 8)].sort_values(by=\"price\")\n",
        "print(sorted_books_2015_under_8)\n"
      ],
      "metadata": {
        "colab": {
          "base_uri": "https://localhost:8080/"
        },
        "id": "BCOdpnncZi5x",
        "outputId": "a0623b00-43cd-485d-e816-83a29a0f1f01"
      },
      "execution_count": 26,
      "outputs": [
        {
          "output_type": "stream",
          "name": "stdout",
          "text": [
            "                                                  name              author  \\\n",
            "507                              To Kill a Mockingbird          Harper Lee   \n",
            "210                      Laugh-Out-Loud Jokes for Kids         Rob Elliott   \n",
            "206                         Knock-Knock Jokes for Kids         Rob Elliott   \n",
            "111                                    First 100 Words        Roger Priddy   \n",
            "123                               Giraffes Can't Dance       Giles Andreae   \n",
            "54   Creative Haven Creative Cats Coloring Book (Ad...     Marjorie Sarnat   \n",
            "63                      Dear Zoo: A Lift-the-Flap Book        Rod Campbell   \n",
            "89   Dover Creative Haven Art Nouveau Animal Design...         Marty Noble   \n",
            "478                        The Very Hungry Caterpillar          Eric Carle   \n",
            "201  Killing Reagan: The Violent Assault That Chang...       Bill O'Reilly   \n",
            "28                        Baby Touch and Feel: Animals                  DK   \n",
            "224                                   Love You Forever       Robert Munsch   \n",
            "55   Creative Haven Owls Coloring Book (Adult Color...     Marjorie Sarnat   \n",
            "17      Adult Coloring Book: Stress Relieving Patterns  Blue Star Coloring   \n",
            "376  The Four Agreements: A Practical Guide to Pers...     Don Miguel Ruiz   \n",
            "16   Adult Coloring Book: Stress Relieving Animal D...  Blue Star Coloring   \n",
            "253              Old School (Diary of a Wimpy Kid #10)         Jeff Kinney   \n",
            "\n",
            "     user_rating  reviews  price  year        genre  \n",
            "507          4.8    26234      0  2015      Fiction  \n",
            "210          4.6     6990      4  2015  Non Fiction  \n",
            "206          4.5     3673      4  2015  Non Fiction  \n",
            "111          4.7    17323      4  2015  Non Fiction  \n",
            "123          4.8    14038      4  2015      Fiction  \n",
            "54           4.8     4022      4  2015  Non Fiction  \n",
            "63           4.8    10922      5  2015      Fiction  \n",
            "89           4.6     2134      5  2015  Non Fiction  \n",
            "478          4.9    19546      5  2015      Fiction  \n",
            "201          4.6     5235      5  2015  Non Fiction  \n",
            "28           4.6     5360      5  2015  Non Fiction  \n",
            "224          4.8    18613      5  2015      Fiction  \n",
            "55           4.8     3871      5  2015  Non Fiction  \n",
            "17           4.4     2951      6  2015  Non Fiction  \n",
            "376          4.7    23308      6  2015  Non Fiction  \n",
            "16           4.6     2925      6  2015  Non Fiction  \n",
            "253          4.8     6169      7  2015      Fiction  \n"
          ]
        }
      ]
    },
    {
      "cell_type": "markdown",
      "source": [
        "### # Яка книга остання у відсортованому списку?"
      ],
      "metadata": {
        "id": "gbcL-xp3aFSE"
      }
    },
    {
      "cell_type": "code",
      "source": [
        "last_book = sorted_books_2015_under_8.iloc[-1]\n",
        "print(last_book)"
      ],
      "metadata": {
        "colab": {
          "base_uri": "https://localhost:8080/"
        },
        "id": "xnuVhtzQaLqd",
        "outputId": "2a49aca5-abc1-40af-c249-9d8b313eccf7"
      },
      "execution_count": 27,
      "outputs": [
        {
          "output_type": "stream",
          "name": "stdout",
          "text": [
            "name           Old School (Diary of a Wimpy Kid #10)\n",
            "author                                   Jeff Kinney\n",
            "user_rating                                      4.8\n",
            "reviews                                         6169\n",
            "price                                              7\n",
            "year                                            2015\n",
            "genre                                        Fiction\n",
            "Name: 253, dtype: object\n"
          ]
        }
      ]
    },
    {
      "cell_type": "markdown",
      "source": [
        "Відповідь: Old School (Diary of a Wimpy Kid #10)"
      ],
      "metadata": {
        "id": "1BFlt6NjaRWE"
      }
    },
    {
      "cell_type": "markdown",
      "source": [
        "### # Для початку давайте подивимося на максимальну та мінімальну ціни для кожного з жанрів (використовуйте функції groupby та agg, для підрахунку мінімальних та максимальних значень використовуйте max та min). Не беріть усі стовпці, виберіть тільки потрібні вам"
      ],
      "metadata": {
        "id": "kGb7vaCpaVoK"
      }
    },
    {
      "cell_type": "code",
      "source": [
        "price_stats_by_genre = df.groupby('genre')['price'].agg(['min', 'max'])\n",
        "print(price_stats_by_genre)\n"
      ],
      "metadata": {
        "colab": {
          "base_uri": "https://localhost:8080/"
        },
        "id": "-HcdcZPqakD7",
        "outputId": "6dc898a3-d7b2-40e5-f305-5366d0daab46"
      },
      "execution_count": 28,
      "outputs": [
        {
          "output_type": "stream",
          "name": "stdout",
          "text": [
            "             min  max\n",
            "genre                \n",
            "Fiction        0   82\n",
            "Non Fiction    0  105\n"
          ]
        }
      ]
    },
    {
      "cell_type": "markdown",
      "source": [
        "Відповідь: Максимальна ціна для жанру Fiction: 82\n",
        "\n",
        "Відповідь: Мінімальна ціна для жанру Fiction: 0\n",
        "\n",
        "Відповідь: Максимальна ціна для жанру Non Fiction: 105\n",
        "\n",
        "Відповідь: Мінімальна ціна для жанру Non Fiction: 0"
      ],
      "metadata": {
        "id": "fqWyPHQsalAR"
      }
    },
    {
      "cell_type": "markdown",
      "source": [
        "### # Тепер створіть новий датафрейм, який вміщатиме кількість книг для кожного з авторів (використовуйте функції groupby та agg, для підрахунку кількості використовуйте count). Не беріть усі стовпці, виберете тільки потрібні"
      ],
      "metadata": {
        "id": "FCKWDDZtbTZx"
      }
    },
    {
      "cell_type": "code",
      "source": [
        "author_book_counts = df.groupby('author')['name'].count().reset_index()\n",
        "author_book_counts.columns = ['author', 'book_count']\n",
        "print(author_book_counts)"
      ],
      "metadata": {
        "colab": {
          "base_uri": "https://localhost:8080/"
        },
        "id": "D6F2z96vbRUZ",
        "outputId": "9a235790-ff8b-45b7-90bb-d361898c77a2"
      },
      "execution_count": 30,
      "outputs": [
        {
          "output_type": "stream",
          "name": "stdout",
          "text": [
            "                         author  book_count\n",
            "0              Abraham Verghese           2\n",
            "1                Adam Gasiewski           1\n",
            "2                 Adam Mansbach           1\n",
            "3                     Adir Levy           1\n",
            "4    Admiral William H. McRaven           1\n",
            "..                          ...         ...\n",
            "243             Walter Isaacson           3\n",
            "244               William Davis           2\n",
            "245            William P. Young           2\n",
            "246            Wizards RPG Team           3\n",
            "247                Zhi Gang Sha           2\n",
            "\n",
            "[248 rows x 2 columns]\n"
          ]
        }
      ]
    },
    {
      "cell_type": "code",
      "source": [
        "print(author_book_counts.shape)"
      ],
      "metadata": {
        "colab": {
          "base_uri": "https://localhost:8080/"
        },
        "id": "GM8S9y0Rbz0Y",
        "outputId": "64aa44c8-0bf0-487c-aee1-5da9751326d0"
      },
      "execution_count": 32,
      "outputs": [
        {
          "output_type": "stream",
          "name": "stdout",
          "text": [
            "(248, 2)\n"
          ]
        }
      ]
    },
    {
      "cell_type": "markdown",
      "source": [
        "Якої розмірності вийшла таблиця? Відповідь: 248x2"
      ],
      "metadata": {
        "id": "fBTuz5SpcFJJ"
      }
    },
    {
      "cell_type": "markdown",
      "source": [
        "### # Який автор має найбільше книг?"
      ],
      "metadata": {
        "id": "9ND3Jfa9ceUn"
      }
    },
    {
      "cell_type": "code",
      "source": [
        "most_prolific_author = author_book_counts[author_book_counts['book_count'] == author_book_counts['book_count'].max()]\n",
        "print(most_prolific_author)\n",
        "\n",
        "\n"
      ],
      "metadata": {
        "colab": {
          "base_uri": "https://localhost:8080/"
        },
        "id": "I6y5O7B7cjiK",
        "outputId": "05a27b0f-2e1f-469f-bfbe-fe1d86b6eaeb"
      },
      "execution_count": 45,
      "outputs": [
        {
          "output_type": "stream",
          "name": "stdout",
          "text": [
            "          author  book_count\n",
            "120  Jeff Kinney          12\n"
          ]
        }
      ]
    },
    {
      "cell_type": "markdown",
      "source": [
        "Який автор має найбільше книг? Відповідь: Jeff Kinney"
      ],
      "metadata": {
        "id": "9YunfbQdhCUc"
      }
    },
    {
      "cell_type": "markdown",
      "source": [
        "### # Скільки книг цього автора?"
      ],
      "metadata": {
        "id": "JeUVRvLyhJXK"
      }
    },
    {
      "cell_type": "markdown",
      "source": [
        "Скільки книг цього автора? Відповідь: 12"
      ],
      "metadata": {
        "id": "kYSw2NQhhSzh"
      }
    },
    {
      "cell_type": "markdown",
      "source": [
        "### # Тепер створіть другий датафрейм, який буде вміщати середній рейтинг для кожного автора (використовуйте функції groupby та agg, для підрахунку середнього значення використовуйте mean). Не беріть усі стовпці, виберете тільки потрібні"
      ],
      "metadata": {
        "id": "6FUqMCp3hggH"
      }
    },
    {
      "cell_type": "code",
      "source": [
        "author_avg_rating = df.groupby('author')['user_rating'].mean().reset_index()\n",
        "author_avg_rating.columns = ['author', 'avg_rating']\n",
        "print(author_avg_rating)"
      ],
      "metadata": {
        "colab": {
          "base_uri": "https://localhost:8080/"
        },
        "id": "O1qqkPC4hiLy",
        "outputId": "6f8f2a8d-60ed-4527-c92e-6f2b72dc2557"
      },
      "execution_count": 46,
      "outputs": [
        {
          "output_type": "stream",
          "name": "stdout",
          "text": [
            "                         author  avg_rating\n",
            "0              Abraham Verghese    4.600000\n",
            "1                Adam Gasiewski    4.400000\n",
            "2                 Adam Mansbach    4.800000\n",
            "3                     Adir Levy    4.800000\n",
            "4    Admiral William H. McRaven    4.700000\n",
            "..                          ...         ...\n",
            "243             Walter Isaacson    4.566667\n",
            "244               William Davis    4.400000\n",
            "245            William P. Young    4.600000\n",
            "246            Wizards RPG Team    4.800000\n",
            "247                Zhi Gang Sha    4.600000\n",
            "\n",
            "[248 rows x 2 columns]\n"
          ]
        }
      ]
    },
    {
      "cell_type": "markdown",
      "source": [
        "### # У якого автора середній рейтинг мінімальний?"
      ],
      "metadata": {
        "id": "pFdi0RHgkKAI"
      }
    },
    {
      "cell_type": "code",
      "source": [
        "author_min_avg_rating = author_avg_rating.loc[author_avg_rating['avg_rating'].idxmin()]\n",
        "print(author_min_avg_rating['author'])\n"
      ],
      "metadata": {
        "colab": {
          "base_uri": "https://localhost:8080/"
        },
        "id": "_qiq5aQ8kMQ7",
        "outputId": "2bbbbbd7-b399-43b8-a599-03574fc08142"
      },
      "execution_count": 47,
      "outputs": [
        {
          "output_type": "stream",
          "name": "stdout",
          "text": [
            "Donna Tartt\n"
          ]
        }
      ]
    },
    {
      "cell_type": "markdown",
      "source": [
        "У якого автора середній рейтинг мінімальний? Відповідь: \"Donna Tartt\""
      ],
      "metadata": {
        "id": "mQ94Nnl5kQlP"
      }
    },
    {
      "cell_type": "markdown",
      "source": [
        "### # Який у цього автора середній рейтинг?"
      ],
      "metadata": {
        "id": "QshrsOUDkXrx"
      }
    },
    {
      "cell_type": "code",
      "source": [
        "print(author_min_avg_rating['avg_rating'])\n"
      ],
      "metadata": {
        "colab": {
          "base_uri": "https://localhost:8080/"
        },
        "id": "Da_g5-Rvkdbk",
        "outputId": "586a917d-5c82-4340-c81d-ea7cbb932313"
      },
      "execution_count": 48,
      "outputs": [
        {
          "output_type": "stream",
          "name": "stdout",
          "text": [
            "3.9\n"
          ]
        }
      ]
    },
    {
      "cell_type": "markdown",
      "source": [
        "Який у цього автора середній рейтинг? 3.9"
      ],
      "metadata": {
        "id": "iXwLos9Nkl6G"
      }
    },
    {
      "cell_type": "markdown",
      "source": [
        "### # З'єднайте останні два датафрейми так, щоб для кожного автора було видно кількість книг та середній рейтинг (Використовуйте функцію concat з параметром axis=1). Збережіть результат у змінну"
      ],
      "metadata": {
        "id": "OWNkQrYZkn0w"
      }
    },
    {
      "cell_type": "code",
      "source": [
        "combined_df = pd.concat([author_book_counts, author_avg_rating], axis=1)\n",
        "print(combined_df)"
      ],
      "metadata": {
        "colab": {
          "base_uri": "https://localhost:8080/"
        },
        "id": "EPpeEennkrCP",
        "outputId": "58f22ed0-69c9-43d3-a5f7-cf59c741f91a"
      },
      "execution_count": 49,
      "outputs": [
        {
          "output_type": "stream",
          "name": "stdout",
          "text": [
            "                         author  book_count                      author  \\\n",
            "0              Abraham Verghese           2            Abraham Verghese   \n",
            "1                Adam Gasiewski           1              Adam Gasiewski   \n",
            "2                 Adam Mansbach           1               Adam Mansbach   \n",
            "3                     Adir Levy           1                   Adir Levy   \n",
            "4    Admiral William H. McRaven           1  Admiral William H. McRaven   \n",
            "..                          ...         ...                         ...   \n",
            "243             Walter Isaacson           3             Walter Isaacson   \n",
            "244               William Davis           2               William Davis   \n",
            "245            William P. Young           2            William P. Young   \n",
            "246            Wizards RPG Team           3            Wizards RPG Team   \n",
            "247                Zhi Gang Sha           2                Zhi Gang Sha   \n",
            "\n",
            "     avg_rating  \n",
            "0      4.600000  \n",
            "1      4.400000  \n",
            "2      4.800000  \n",
            "3      4.800000  \n",
            "4      4.700000  \n",
            "..          ...  \n",
            "243    4.566667  \n",
            "244    4.400000  \n",
            "245    4.600000  \n",
            "246    4.800000  \n",
            "247    4.600000  \n",
            "\n",
            "[248 rows x 4 columns]\n"
          ]
        }
      ]
    },
    {
      "cell_type": "markdown",
      "source": [
        "### # Відсортуйте датафрейм за зростаючою кількістю книг та зростаючим рейтингом (використовуйте функцію sort_values)"
      ],
      "metadata": {
        "id": "zivm3vr0k9WF"
      }
    },
    {
      "cell_type": "code",
      "source": [
        "sorted_df = combined_df.sort_values(by=['book_count', 'avg_rating'], ascending=[True, True])\n",
        "print(sorted_df)"
      ],
      "metadata": {
        "colab": {
          "base_uri": "https://localhost:8080/"
        },
        "id": "P7WwVQQAk_O5",
        "outputId": "aed62210-612e-42b7-b41e-3c204772e6b9"
      },
      "execution_count": 50,
      "outputs": [
        {
          "output_type": "stream",
          "name": "stdout",
          "text": [
            "                                 author  book_count  \\\n",
            "171                      Muriel Barbery           1   \n",
            "43                         Chris Cleave           1   \n",
            "109                   Ian K. Smith M.D.           1   \n",
            "186                        Pierre Dukan           1   \n",
            "81                     Elizabeth Strout           1   \n",
            "..                                  ...         ...   \n",
            "11   American Psychological Association          10   \n",
            "226                     Suzanne Collins          11   \n",
            "92                         Gary Chapman          11   \n",
            "197                        Rick Riordan          11   \n",
            "120                         Jeff Kinney          12   \n",
            "\n",
            "                                 author  avg_rating  \n",
            "171                      Muriel Barbery    4.000000  \n",
            "43                         Chris Cleave    4.100000  \n",
            "109                   Ian K. Smith M.D.    4.100000  \n",
            "186                        Pierre Dukan    4.100000  \n",
            "81                     Elizabeth Strout    4.200000  \n",
            "..                                  ...         ...  \n",
            "11   American Psychological Association    4.500000  \n",
            "226                     Suzanne Collins    4.663636  \n",
            "92                         Gary Chapman    4.736364  \n",
            "197                        Rick Riordan    4.772727  \n",
            "120                         Jeff Kinney    4.800000  \n",
            "\n",
            "[248 rows x 4 columns]\n"
          ]
        }
      ]
    },
    {
      "cell_type": "markdown",
      "source": [
        "### # Який автор перший у списку?"
      ],
      "metadata": {
        "id": "RNslynrrlJAh"
      }
    },
    {
      "cell_type": "code",
      "source": [
        "first_author = sorted_df.iloc[0]['author']\n",
        "print(first_author)"
      ],
      "metadata": {
        "colab": {
          "base_uri": "https://localhost:8080/"
        },
        "id": "9ffRWPe-lKW5",
        "outputId": "3b99f259-3c3b-4282-f874-333c5710a092"
      },
      "execution_count": 56,
      "outputs": [
        {
          "output_type": "stream",
          "name": "stdout",
          "text": [
            "author    Muriel Barbery\n",
            "author    Muriel Barbery\n",
            "Name: 171, dtype: object\n"
          ]
        }
      ]
    },
    {
      "cell_type": "markdown",
      "source": [
        "Який автор перший у списку? Muriel Barbery"
      ],
      "metadata": {
        "id": "lHu3PcYalxwi"
      }
    }
  ]
}