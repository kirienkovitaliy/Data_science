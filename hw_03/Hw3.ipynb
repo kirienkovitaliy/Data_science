{
  "nbformat": 4,
  "nbformat_minor": 0,
  "metadata": {
    "colab": {
      "provenance": []
    },
    "kernelspec": {
      "name": "python3",
      "display_name": "Python 3"
    },
    "language_info": {
      "name": "python"
    }
  },
  "cells": [
    {
      "cell_type": "code",
      "execution_count": 70,
      "metadata": {
        "id": "GV-XnkNvC_Vc"
      },
      "outputs": [],
      "source": [
        "import numpy as np"
      ]
    },
    {
      "cell_type": "markdown",
      "source": [
        "### Напишіть функцію гіпотези лінійної регресії у векторному вигляді:"
      ],
      "metadata": {
        "id": "JsLmswVrDImH"
      }
    },
    {
      "cell_type": "code",
      "source": [
        "def h(w_0, w_1, x):\n",
        "    theta = np.array([w_0, w_1])\n",
        "    x_vector = np.array([1, x])\n",
        "    return np.dot(theta, x_vector)"
      ],
      "metadata": {
        "id": "gUo1qPdYDPJd"
      },
      "execution_count": 71,
      "outputs": []
    },
    {
      "cell_type": "markdown",
      "source": [
        "### Створіть функцію для обчислення функції втрат у векторному вигляді:"
      ],
      "metadata": {
        "id": "3zYSE4LiDp2x"
      }
    },
    {
      "cell_type": "code",
      "source": [
        "def compute_cost(theta, X, y):\n",
        "    m = len(y)\n",
        "    predictions = np.dot(X, theta)\n",
        "    cost = np.sum((predictions - y)**2) / (2 * m)\n",
        "    return cost"
      ],
      "metadata": {
        "id": "h3Hw3VO2DyIU"
      },
      "execution_count": 72,
      "outputs": []
    },
    {
      "cell_type": "markdown",
      "source": [
        "### Реалізуйте один крок градієнтного спуску:"
      ],
      "metadata": {
        "id": "EQSRdWVQGA1y"
      }
    },
    {
      "cell_type": "code",
      "source": [
        "def gradient_descent_step(theta, X, y, learning_rate):\n",
        "    m = len(y)\n",
        "    predictions = np.dot(X, theta)\n",
        "    errors = predictions - y\n",
        "    gradient = (1 / m) * np.dot(X.T, errors)\n",
        "    new_theta = theta - learning_rate * gradient\n",
        "    return new_theta"
      ],
      "metadata": {
        "id": "avLI9b_NGJPj"
      },
      "execution_count": 73,
      "outputs": []
    },
    {
      "cell_type": "markdown",
      "source": [
        "### Знайдіть найкращі параметри $\\vec{w}$ для датасету прогнозуючу ціну на будинок залежно від площі, кількості ванних кімнат та кількості спалень:"
      ],
      "metadata": {
        "id": "EjxRwTRqIK4A"
      }
    },
    {
      "cell_type": "code",
      "source": [
        "import pandas as pd\n",
        "import numpy as np\n",
        "from sklearn.preprocessing import StandardScaler\n",
        "\n",
        "data = pd.read_csv('/content/drive/MyDrive/Data_science/hw_03/Housing.csv')\n",
        "\n",
        "X = data[['area', 'bedrooms', 'bathrooms']]\n",
        "y = data['price']\n",
        "\n",
        "scaler = StandardScaler()\n",
        "X_scaled = scaler.fit_transform(X)\n",
        "\n",
        "X_normalized = np.column_stack((np.ones(len(X_scaled)), X_scaled))\n",
        "\n",
        "learning_rate = 0.001\n",
        "num_iterations = 10000\n",
        "\n",
        "def gradient_descent(X, y, learning_rate, num_iterations):\n",
        "    m, n = X.shape\n",
        "    w = np.random.rand(n)\n",
        "\n",
        "    for _ in range(num_iterations):\n",
        "        predictions = np.dot(X, w)\n",
        "        errors = predictions - y\n",
        "        gradient = (1 / m) * np.dot(X.T, errors)\n",
        "        w -= learning_rate * gradient\n",
        "\n",
        "    return w\n",
        "\n",
        "optimal_w = gradient_descent(X_normalized, y, learning_rate, num_iterations)"
      ],
      "metadata": {
        "id": "alJ_sqouG-uX"
      },
      "execution_count": 74,
      "outputs": []
    },
    {
      "cell_type": "code",
      "source": [
        "import matplotlib.pyplot as plt\n",
        "\n",
        "def compute_cost(X, y, w):\n",
        "    m = len(y)\n",
        "    predictions = np.dot(X, w)\n",
        "    errors = predictions - y\n",
        "    cost = (1 / (2 * m)) * np.sum(errors ** 2)\n",
        "    return cost\n",
        "\n",
        "def gradient_descent_with_cost(X, y, learning_rate, num_iterations):\n",
        "    m, n = X.shape\n",
        "    w = np.random.rand(n)\n",
        "    costs = []\n",
        "\n",
        "    for _ in range(num_iterations):\n",
        "        predictions = np.dot(X, w)\n",
        "        errors = predictions - y\n",
        "        gradient = (1 / m) * np.dot(X.T, errors)\n",
        "        w -= learning_rate * gradient\n",
        "\n",
        "        cost = compute_cost(X, y, w)\n",
        "        costs.append(cost)\n",
        "\n",
        "    return w, costs\n",
        "\n",
        "optimal_w, costs = gradient_descent_with_cost(X_normalized, y, learning_rate, num_iterations)\n",
        "\n",
        "plt.plot(range(num_iterations), costs)\n",
        "plt.xlabel(\"Iterations\")\n",
        "plt.ylabel(\"Cost\")\n",
        "plt.show()"
      ],
      "metadata": {
        "colab": {
          "base_uri": "https://localhost:8080/",
          "height": 465
        },
        "id": "7owxyB2JXYXh",
        "outputId": "177ad145-1894-4364-860f-fe265637eba5"
      },
      "execution_count": 76,
      "outputs": [
        {
          "output_type": "display_data",
          "data": {
            "text/plain": [
              "<Figure size 640x480 with 1 Axes>"
            ],
            "image/png": "[encoded data removed]"
          },
          "metadata": {}
        }
      ]
    },
    {
      "cell_type": "markdown",
      "source": [
        "### Знайдіть ці ж параметри за допомогою аналітичного рішення:"
      ],
      "metadata": {
        "id": "lFfdDtsyLoiQ"
      }
    },
    {
      "cell_type": "code",
      "source": [
        "def analytical_solution(X, y):\n",
        "    theta = np.linalg.inv(X.T.dot(X)).dot(X.T).dot(y)\n",
        "    return theta"
      ],
      "metadata": {
        "id": "V6LomPBdLmNO"
      },
      "execution_count": 77,
      "outputs": []
    },
    {
      "cell_type": "markdown",
      "source": [
        "### Порівняйте отримані результати:"
      ],
      "metadata": {
        "id": "jCvlbitcMTso"
      }
    },
    {
      "cell_type": "code",
      "source": [
        "optimal_w_gradient = gradient_descent(X_normalized, y, learning_rate, num_iterations)\n",
        "optimal_w_analytical = analytical_solution(X_normalized, y)\n",
        "\n",
        "print(\"Optimal_w_gradient:\", optimal_w_gradient)\n",
        "print(\"Optimal_w_analytical:\", optimal_w_analytical)\n"
      ],
      "metadata": {
        "id": "SgvT_Ep4MM2d",
        "colab": {
          "base_uri": "https://localhost:8080/"
        },
        "outputId": "6c024eb2-810d-48a3-e2a6-21876e42e7a7"
      },
      "execution_count": 79,
      "outputs": [
        {
          "output_type": "stream",
          "name": "stdout",
          "text": [
            "Optimal_w_gradient: [4766513.91860524  821197.96125139  300302.25421426  695511.07708483]\n",
            "Optimal_w_analytical: [4766729.24770642  821214.14349519  299983.57107963  695808.52272538]\n"
          ]
        }
      ]
    }
  ]
}