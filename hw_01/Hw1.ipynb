{
  "nbformat": 4,
  "nbformat_minor": 0,
  "metadata": {
    "colab": {
      "provenance": []
    },
    "kernelspec": {
      "name": "python3",
      "display_name": "Python 3"
    },
    "language_info": {
      "name": "python"
    }
  },
  "cells": [
    {
      "cell_type": "code",
      "source": [
        "import numpy as np"
      ],
      "metadata": {
        "id": "o7catac925Ta"
      },
      "execution_count": 2,
      "outputs": []
    },
    {
      "cell_type": "markdown",
      "source": [
        "### #1 Створіть одновимірний масив (вектор) з першими 10-ма натуральними числами та виведіть його значення."
      ],
      "metadata": {
        "id": "8ZatPrDIBYgD"
      }
    },
    {
      "cell_type": "code",
      "source": [
        "a = np.linspace(1, 10, num=10, dtype=int)\n",
        "print(a)"
      ],
      "metadata": {
        "colab": {
          "base_uri": "https://localhost:8080/"
        },
        "id": "CGuez12qBg-z",
        "outputId": "60009190-3913-499d-96c7-aa4ccce0df70"
      },
      "execution_count": 3,
      "outputs": [
        {
          "output_type": "stream",
          "name": "stdout",
          "text": [
            "[ 1  2  3  4  5  6  7  8  9 10]\n"
          ]
        }
      ]
    },
    {
      "cell_type": "markdown",
      "source": [
        "### #2 Створіть двовимірний масив (матрицю) розміром 3x3, заповніть його нулями та виведіть його значення."
      ],
      "metadata": {
        "id": "o9UJN2fYB_wa"
      }
    },
    {
      "cell_type": "code",
      "source": [
        "M = np.zeros((3, 3), dtype=int)\n",
        "print(M)"
      ],
      "metadata": {
        "colab": {
          "base_uri": "https://localhost:8080/"
        },
        "id": "P8pCAGyRCEIr",
        "outputId": "235f1343-b0a2-44d8-f3e9-774d94c51027"
      },
      "execution_count": 4,
      "outputs": [
        {
          "output_type": "stream",
          "name": "stdout",
          "text": [
            "[[0 0 0]\n",
            " [0 0 0]\n",
            " [0 0 0]]\n"
          ]
        }
      ]
    },
    {
      "cell_type": "markdown",
      "source": [
        "### #3 Створіть масив розміром 5x5, заповніть його випадковими цілими числами в діапазоні від 1 до 10 та виведіть його значення."
      ],
      "metadata": {
        "id": "R7btRQ_gCS1k"
      }
    },
    {
      "cell_type": "code",
      "source": [
        "M = np.random.randint(1, 11, size=(5, 5))\n",
        "print(M)"
      ],
      "metadata": {
        "colab": {
          "base_uri": "https://localhost:8080/"
        },
        "id": "Q_ua1suMCVyl",
        "outputId": "8df4cbc1-9d6f-4852-bf1c-a3842765c2bc"
      },
      "execution_count": 5,
      "outputs": [
        {
          "output_type": "stream",
          "name": "stdout",
          "text": [
            "[[ 2  5  4  6  6]\n",
            " [ 2  5  7  8  7]\n",
            " [ 8  3  7 10  1]\n",
            " [ 4  9  6  5  9]\n",
            " [ 9  6  8  2  4]]\n"
          ]
        }
      ]
    },
    {
      "cell_type": "markdown",
      "source": [
        "### #4 Створіть масив розміром 4x4, заповніть його випадковими дійсними числами в діапазоні від 0 до 1 та виведіть його значення."
      ],
      "metadata": {
        "id": "x6X-tc_kEWEf"
      }
    },
    {
      "cell_type": "code",
      "source": [
        "M = np.random.random((4, 4))\n",
        "print(M)"
      ],
      "metadata": {
        "colab": {
          "base_uri": "https://localhost:8080/"
        },
        "id": "Ayj7OkzmEZ3l",
        "outputId": "56706672-1011-467f-d05b-965505d138dc"
      },
      "execution_count": 7,
      "outputs": [
        {
          "output_type": "stream",
          "name": "stdout",
          "text": [
            "[[0.32628198 0.41872203 0.10410181 0.21969903]\n",
            " [0.44995852 0.61245025 0.43450289 0.99206629]\n",
            " [0.75750726 0.07682535 0.71188408 0.85171519]\n",
            " [0.10207923 0.78359159 0.59973673 0.24429206]]\n"
          ]
        }
      ]
    },
    {
      "cell_type": "markdown",
      "source": [
        "### #5 Створіть два одновимірних масиви розміром 5, заповніть їх випадковими цілими числами в діапазоні від 1 до 10 та виконайте на них поелементні операції додавання, віднімання та множення."
      ],
      "metadata": {
        "id": "dSyKB-1pFBkP"
      }
    },
    {
      "cell_type": "code",
      "source": [
        "a = np.random.randint(1, 11, size=(5,))\n",
        "b = np.random.randint(1, 11, size=(5,))\n",
        "print(a)\n",
        "print(b)\n",
        "print(a+b)\n",
        "print(a-b)\n",
        "print(a*b)"
      ],
      "metadata": {
        "colab": {
          "base_uri": "https://localhost:8080/"
        },
        "id": "F4mf8wg3FEW4",
        "outputId": "62b9c987-7bf9-447f-a882-14292f63958c"
      },
      "execution_count": 8,
      "outputs": [
        {
          "output_type": "stream",
          "name": "stdout",
          "text": [
            "[ 3 10  6  8  4]\n",
            "[ 4  4  4 10  5]\n",
            "[ 7 14 10 18  9]\n",
            "[-1  6  2 -2 -1]\n",
            "[12 40 24 80 20]\n"
          ]
        }
      ]
    },
    {
      "cell_type": "markdown",
      "source": [
        "### #6 Створіть два вектори розміром 7, заповніть довільними числами та знайдіть їх скалярний добуток."
      ],
      "metadata": {
        "id": "OGToNj8HHIGq"
      }
    },
    {
      "cell_type": "code",
      "source": [
        "a = np.random.randint(1, 11, size=(7))\n",
        "b = np.random.randint(1, 11, size=(7))\n",
        "print(a)\n",
        "print(b)\n",
        "print(np.dot(a, b))"
      ],
      "metadata": {
        "colab": {
          "base_uri": "https://localhost:8080/"
        },
        "id": "o9TCO1OXHKRP",
        "outputId": "f166e3c9-81a6-428e-84ce-f19c5bf25f88"
      },
      "execution_count": 9,
      "outputs": [
        {
          "output_type": "stream",
          "name": "stdout",
          "text": [
            "[ 5  2  3 10  9  4  6]\n",
            "[10  2  8  6  5  6  9]\n",
            "261\n"
          ]
        }
      ]
    },
    {
      "cell_type": "markdown",
      "source": [
        "### #7 Створіть дві матриці розміром 2x2 та 2x3, заповніть їх випадковими цілими числами в діапазоні від 1 до 10 та перемножте їх між собою."
      ],
      "metadata": {
        "id": "l64H3D0XI5Ex"
      }
    },
    {
      "cell_type": "code",
      "source": [
        "M = np.random.randint(1, 11, size=(2, 2))\n",
        "N = np.random.randint(1, 11, size=(2, 3))\n",
        "print(M)\n",
        "print(N)\n",
        "print(np.dot(M, N))"
      ],
      "metadata": {
        "colab": {
          "base_uri": "https://localhost:8080/"
        },
        "id": "8PLEAVAMI7uZ",
        "outputId": "5e2fd8a7-9b51-4c86-e0b1-f7023bf3017e"
      },
      "execution_count": 11,
      "outputs": [
        {
          "output_type": "stream",
          "name": "stdout",
          "text": [
            "[[2 6]\n",
            " [8 3]]\n",
            "[[3 6 7]\n",
            " [7 4 5]]\n",
            "[[48 36 44]\n",
            " [45 60 71]]\n"
          ]
        }
      ]
    },
    {
      "cell_type": "markdown",
      "source": [
        "### #8 Створіть матрицю розміром 3x3, заповніть її випадковими цілими числами в діапазоні від 1 до 10 та знайдіть її обернену матрицю."
      ],
      "metadata": {
        "id": "WyEQGR5LJeuE"
      }
    },
    {
      "cell_type": "code",
      "source": [
        "M = np.random.randint(1, 11, size=(3, 3))\n",
        "print(M)\n",
        "print(np.linalg.inv(M))"
      ],
      "metadata": {
        "colab": {
          "base_uri": "https://localhost:8080/"
        },
        "id": "3BxuaIQCJjK9",
        "outputId": "64befd1b-1af2-4a28-acb6-45a45283254e"
      },
      "execution_count": 15,
      "outputs": [
        {
          "output_type": "stream",
          "name": "stdout",
          "text": [
            "[[10  5  6]\n",
            " [ 1  9  2]\n",
            " [ 3  8  6]]\n",
            "[[ 0.14285714  0.06766917 -0.16541353]\n",
            " [ 0.          0.15789474 -0.05263158]\n",
            " [-0.07142857 -0.2443609   0.31954887]]\n"
          ]
        }
      ]
    },
    {
      "cell_type": "markdown",
      "source": [
        "### #9 Створіть матрицю розміром 4x4, заповніть її випадковими дійсними числами в діапазоні від 0 до 1 та транспонуйте її."
      ],
      "metadata": {
        "id": "oR_36e-l3wqT"
      }
    },
    {
      "cell_type": "code",
      "source": [
        "M = np.random.random((4, 4))\n",
        "print(M)\n",
        "print(M.T)"
      ],
      "metadata": {
        "colab": {
          "base_uri": "https://localhost:8080/"
        },
        "id": "OfcRb74M31gj",
        "outputId": "b86dead6-f43b-42bc-8ebd-50b99d2bfd2a"
      },
      "execution_count": 18,
      "outputs": [
        {
          "output_type": "stream",
          "name": "stdout",
          "text": [
            "[[0.21261568 0.5665961  0.45043236 0.81160423]\n",
            " [0.1943207  0.88017669 0.19175593 0.94255193]\n",
            " [0.57936718 0.59608192 0.00248547 0.88007764]\n",
            " [0.7222632  0.80223577 0.50739303 0.10586923]]\n",
            "[[0.21261568 0.1943207  0.57936718 0.7222632 ]\n",
            " [0.5665961  0.88017669 0.59608192 0.80223577]\n",
            " [0.45043236 0.19175593 0.00248547 0.50739303]\n",
            " [0.81160423 0.94255193 0.88007764 0.10586923]]\n"
          ]
        }
      ]
    },
    {
      "cell_type": "markdown",
      "source": [
        "### #10 Створіть матрицю розміром 3x4 та вектор розміром 4, заповніть їх випадковими цілими числами в діапазоні від 1 до 10 та перемножте матрицю на вектор."
      ],
      "metadata": {
        "id": "MvJ8pcwO4LBq"
      }
    },
    {
      "cell_type": "code",
      "source": [
        "M = np.random.randint(1, 11, size=(3, 4))\n",
        "a = np.random.randint(1, 11, size=(4))\n",
        "print(M)\n",
        "print(a)\n",
        "print (np.dot(M, a))"
      ],
      "metadata": {
        "colab": {
          "base_uri": "https://localhost:8080/"
        },
        "id": "6GbNedim4QEX",
        "outputId": "9124633c-1a38-4a7f-ca7c-e577706c7e30"
      },
      "execution_count": 19,
      "outputs": [
        {
          "output_type": "stream",
          "name": "stdout",
          "text": [
            "[[3 6 1 9]\n",
            " [2 1 4 4]\n",
            " [1 5 1 3]]\n",
            "[9 8 1 5]\n",
            "[121  50  65]\n"
          ]
        }
      ]
    },
    {
      "cell_type": "markdown",
      "source": [
        "### #11 Створіть матрицю розміром 2x3 та вектор розміром 3, заповніть їх випадковими дійсними числами в діапазоні від 0 до 1 та перемножте матрицю на вектор."
      ],
      "metadata": {
        "id": "DnMHduyZ4-GB"
      }
    },
    {
      "cell_type": "code",
      "source": [
        "M = np.random.random(size=(2, 3))\n",
        "a = np.random.random(size=(3))\n",
        "print(M)\n",
        "print(a)\n",
        "print (np.dot(M, a))"
      ],
      "metadata": {
        "colab": {
          "base_uri": "https://localhost:8080/"
        },
        "id": "25e91ncB5BrP",
        "outputId": "c75bb1f7-2e6c-4b16-f48d-b846510fe4f7"
      },
      "execution_count": 22,
      "outputs": [
        {
          "output_type": "stream",
          "name": "stdout",
          "text": [
            "[[0.03113731 0.72685408 0.30371223]\n",
            " [0.85485252 0.63866297 0.01454507]]\n",
            "[0.12983285 0.42854262 0.95621907]\n",
            "[0.60594603 0.39859052]\n"
          ]
        }
      ]
    },
    {
      "cell_type": "markdown",
      "source": [
        "### #12 Створіть дві матриці розміром 2x2, заповніть їх випадковими цілими числами в діапазоні від 1 до 10 та виконайте їхнє поелементне множення."
      ],
      "metadata": {
        "id": "G39bvv3B5i2I"
      }
    },
    {
      "cell_type": "code",
      "source": [
        "M = np.random.randint(1, 11, size=(2, 2))\n",
        "N = np.random.randint(1, 11, size=(2, 2))\n",
        "print(M)\n",
        "print(N)\n",
        "print(M*N)"
      ],
      "metadata": {
        "colab": {
          "base_uri": "https://localhost:8080/"
        },
        "id": "RxD1Zke95myW",
        "outputId": "77f47cdb-ab58-4f8c-b3de-1a8d7e96bb78"
      },
      "execution_count": 23,
      "outputs": [
        {
          "output_type": "stream",
          "name": "stdout",
          "text": [
            "[[ 2 10]\n",
            " [ 5  1]]\n",
            "[[3 2]\n",
            " [6 9]]\n",
            "[[ 6 20]\n",
            " [30  9]]\n"
          ]
        }
      ]
    },
    {
      "cell_type": "markdown",
      "source": [
        "### #13 Створіть дві матриці розміром 2x2, заповніть їх випадковими цілими числами в діапазоні від 1 до 10 та знайдіть їх добуток."
      ],
      "metadata": {
        "id": "4_diNLlL59X0"
      }
    },
    {
      "cell_type": "code",
      "source": [
        "M = np.random.randint(1, 11, size=(2, 2))\n",
        "N = np.random.randint(1, 11, size=(2, 2))\n",
        "print(M)\n",
        "print(N)\n",
        "print(np.dot(M, N))"
      ],
      "metadata": {
        "colab": {
          "base_uri": "https://localhost:8080/"
        },
        "id": "qhv4QGJp6BC4",
        "outputId": "5ff2e6ee-8684-4b0f-e0a6-b13d219924f6"
      },
      "execution_count": 24,
      "outputs": [
        {
          "output_type": "stream",
          "name": "stdout",
          "text": [
            "[[5 1]\n",
            " [6 3]]\n",
            "[[ 5 10]\n",
            " [ 9  1]]\n",
            "[[34 51]\n",
            " [57 63]]\n"
          ]
        }
      ]
    },
    {
      "cell_type": "markdown",
      "source": [
        "### #14 Створіть матрицю розміром 5x5, заповніть її випадковими цілими числами в діапазоні від 1 до 100 та знайдіть суму елементів матриці."
      ],
      "metadata": {
        "id": "2_LClH5N6TgE"
      }
    },
    {
      "cell_type": "code",
      "source": [
        "M = np.random.randint(1, 101, size=(5, 5))\n",
        "print(M)\n",
        "print(M.sum())"
      ],
      "metadata": {
        "colab": {
          "base_uri": "https://localhost:8080/"
        },
        "id": "F3PiTWzi6dsc",
        "outputId": "8e467380-792f-4e30-bb1b-0eeed13d93ec"
      },
      "execution_count": 25,
      "outputs": [
        {
          "output_type": "stream",
          "name": "stdout",
          "text": [
            "[[92 26  7 66 58]\n",
            " [39 63 64 78 70]\n",
            " [90 91 77  3 11]\n",
            " [91 90 35 85 23]\n",
            " [50 85 59 13 48]]\n",
            "1414\n"
          ]
        }
      ]
    },
    {
      "cell_type": "markdown",
      "source": [
        "### #15 Створіть дві матриці розміром 4x4, заповніть їх випадковими цілими числами в діапазоні від 1 до 10 та знайдіть їхню різницю."
      ],
      "metadata": {
        "id": "rXGCoS9L60RB"
      }
    },
    {
      "cell_type": "code",
      "source": [
        "M = np.random.randint(1, 11, size=(4, 4))\n",
        "N = np.random.randint(1, 11, size=(4, 4))\n",
        "print(M)\n",
        "print(N)\n",
        "print(M-N)\n",
        "print(N-M)"
      ],
      "metadata": {
        "colab": {
          "base_uri": "https://localhost:8080/"
        },
        "id": "izT2OztM64OZ",
        "outputId": "5847147b-9448-4e07-b77d-4004ad920ec6"
      },
      "execution_count": 27,
      "outputs": [
        {
          "output_type": "stream",
          "name": "stdout",
          "text": [
            "[[ 2 10  9 10]\n",
            " [ 6  6  9  9]\n",
            " [ 7  1  4  2]\n",
            " [ 6  9  7  8]]\n",
            "[[ 4  8  1 10]\n",
            " [ 1  6  2  9]\n",
            " [ 2  3  4  4]\n",
            " [ 6  6  8  2]]\n",
            "[[-2  2  8  0]\n",
            " [ 5  0  7  0]\n",
            " [ 5 -2  0 -2]\n",
            " [ 0  3 -1  6]]\n",
            "[[ 2 -2 -8  0]\n",
            " [-5  0 -7  0]\n",
            " [-5  2  0  2]\n",
            " [ 0 -3  1 -6]]\n"
          ]
        }
      ]
    },
    {
      "cell_type": "markdown",
      "source": [
        "### #16 Створіть матрицю розміром 3x3, заповніть її випадковими дійсними числами в діапазоні від 0 до 1 та знайдіть вектор-стовпчик, що містить суму елементів кожного рядка матриці."
      ],
      "metadata": {
        "id": "noCQNGgZ7XW6"
      }
    },
    {
      "cell_type": "code",
      "source": [
        "M = np.random.random((3, 3))\n",
        "print(M)\n",
        "v = M.sum(axis=1).reshape(3, 1)\n",
        "print(v)"
      ],
      "metadata": {
        "colab": {
          "base_uri": "https://localhost:8080/"
        },
        "id": "28gki-E67bTX",
        "outputId": "6f883051-69c6-4831-f878-941125579600"
      },
      "execution_count": 40,
      "outputs": [
        {
          "output_type": "stream",
          "name": "stdout",
          "text": [
            "[[0.03418056 0.97685505 0.47175348]\n",
            " [0.11951024 0.2696351  0.92132472]\n",
            " [0.02421034 0.0831528  0.29505114]]\n",
            "[[1.4827891 ]\n",
            " [1.31047006]\n",
            " [0.40241429]]\n"
          ]
        }
      ]
    },
    {
      "cell_type": "markdown",
      "source": [
        "### #17 Створіть матрицю розміром 3x4 з довільними цілими числами і створінь матрицю з квадратами цих чисел."
      ],
      "metadata": {
        "id": "ZrnZHK7k-4eL"
      }
    },
    {
      "cell_type": "code",
      "source": [
        "M = np.random.randint(1, 11, size=(3, 4))\n",
        "N = np.square(M)\n",
        "print(M)\n",
        "print(N)"
      ],
      "metadata": {
        "colab": {
          "base_uri": "https://localhost:8080/"
        },
        "id": "Bip1hQ4c-8sH",
        "outputId": "d0c0f1b2-78a8-40b1-dd19-9a17d041db0a"
      },
      "execution_count": 41,
      "outputs": [
        {
          "output_type": "stream",
          "name": "stdout",
          "text": [
            "[[3 2 9 8]\n",
            " [3 5 7 9]\n",
            " [8 4 6 3]]\n",
            "[[ 9  4 81 64]\n",
            " [ 9 25 49 81]\n",
            " [64 16 36  9]]\n"
          ]
        }
      ]
    },
    {
      "cell_type": "markdown",
      "source": [
        "### #18 Створіть вектор розміром 4, заповніть його випадковими цілими числами в діапазоні від 1 до 50 та знайдіть вектор з квадратними коренями цих чисел."
      ],
      "metadata": {
        "id": "nUJC7T1g_YbG"
      }
    },
    {
      "cell_type": "code",
      "source": [
        "a = np.random.randint(1, 51, size=(4))\n",
        "b = np.sqrt(a)\n",
        "print(a)\n",
        "print(b)"
      ],
      "metadata": {
        "colab": {
          "base_uri": "https://localhost:8080/"
        },
        "id": "xIuoqs3c_cT9",
        "outputId": "2f6068b8-e5e7-48dd-a6d7-8145750ca3e7"
      },
      "execution_count": 43,
      "outputs": [
        {
          "output_type": "stream",
          "name": "stdout",
          "text": [
            "[33 42 11 32]\n",
            "[5.74456265 6.4807407  3.31662479 5.65685425]\n"
          ]
        }
      ]
    }
  ]
}